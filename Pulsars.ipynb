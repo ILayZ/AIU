{
  "nbformat": 4,
  "nbformat_minor": 0,
  "metadata": {
    "colab": {
      "name": "Pulsars.ipynb",
      "version": "0.3.2",
      "provenance": [],
      "collapsed_sections": [
        "nhxsMmhW6vga"
      ],
      "include_colab_link": true
    },
    "kernelspec": {
      "name": "python3",
      "display_name": "Python 3"
    },
    "accelerator": "TPU"
  },
  "cells": [
    {
      "cell_type": "markdown",
      "metadata": {
        "id": "view-in-github",
        "colab_type": "text"
      },
      "source": [
        "<a href=\"https://colab.research.google.com/github/ILayZ/AIU/blob/master/Pulsars.ipynb\" target=\"_parent\"><img src=\"https://colab.research.google.com/assets/colab-badge.svg\" alt=\"Open In Colab\"/></a>"
      ]
    },
    {
      "cell_type": "code",
      "metadata": {
        "id": "CsXUJE09tenj",
        "colab_type": "code",
        "outputId": "eebfe18a-589f-43b2-c278-57d7464dddd4",
        "colab": {
          "base_uri": "https://localhost:8080/",
          "height": 121
        }
      },
      "source": [
        "import numpy as np\n",
        "\n",
        "import pandas as pd\n",
        "import tensorflow as tf\n",
        "from tensorflow import keras\n",
        "\n",
        "import matplotlib.pyplot as plt\n",
        "import seaborn as sns\n",
        "sns.set(style=\"darkgrid\")\n",
        "\n",
        "\n",
        "%matplotlib inline\n",
        "\n",
        "from google.colab import drive\n",
        "drive.mount('/gdrive')"
      ],
      "execution_count": 2,
      "outputs": [
        {
          "output_type": "stream",
          "text": [
            "Go to this URL in a browser: https://accounts.google.com/o/oauth2/auth?client_id=947318989803-6bn6qk8qdgf4n4g3pfee6491hc0brc4i.apps.googleusercontent.com&redirect_uri=urn%3Aietf%3Awg%3Aoauth%3A2.0%3Aoob&scope=email%20https%3A%2F%2Fwww.googleapis.com%2Fauth%2Fdocs.test%20https%3A%2F%2Fwww.googleapis.com%2Fauth%2Fdrive%20https%3A%2F%2Fwww.googleapis.com%2Fauth%2Fdrive.photos.readonly%20https%3A%2F%2Fwww.googleapis.com%2Fauth%2Fpeopleapi.readonly&response_type=code\n",
            "\n",
            "Enter your authorization code:\n",
            "··········\n",
            "Mounted at /gdrive\n"
          ],
          "name": "stdout"
        }
      ]
    },
    {
      "cell_type": "code",
      "metadata": {
        "id": "5YWmk4ney3TB",
        "colab_type": "code",
        "outputId": "0a408ae2-04e9-44d8-d530-bdedd4a6fac7",
        "colab": {
          "base_uri": "https://localhost:8080/",
          "height": 50
        }
      },
      "source": [
        "path = '/gdrive/My Drive/Colab Notebooks/data/'\n",
        "%ls \"$path\""
      ],
      "execution_count": 3,
      "outputs": [
        {
          "output_type": "stream",
          "text": [
            "Credit.csv                    preds.csv         trues.csv\n",
            "predicting-a-pulsar-star.zip  pulsar_stars.csv\n"
          ],
          "name": "stdout"
        }
      ]
    },
    {
      "cell_type": "code",
      "metadata": {
        "id": "GiAmY9Nrtenm",
        "colab_type": "code",
        "outputId": "eb6391b7-8495-43ea-daed-3629c7e70869",
        "colab": {
          "base_uri": "https://localhost:8080/",
          "height": 229
        }
      },
      "source": [
        "data = pd.read_csv(path+'pulsar_stars.csv')\n",
        "data.head()"
      ],
      "execution_count": 4,
      "outputs": [
        {
          "output_type": "execute_result",
          "data": {
            "text/html": [
              "<div>\n",
              "<style scoped>\n",
              "    .dataframe tbody tr th:only-of-type {\n",
              "        vertical-align: middle;\n",
              "    }\n",
              "\n",
              "    .dataframe tbody tr th {\n",
              "        vertical-align: top;\n",
              "    }\n",
              "\n",
              "    .dataframe thead th {\n",
              "        text-align: right;\n",
              "    }\n",
              "</style>\n",
              "<table border=\"1\" class=\"dataframe\">\n",
              "  <thead>\n",
              "    <tr style=\"text-align: right;\">\n",
              "      <th></th>\n",
              "      <th>Mean of the integrated profile</th>\n",
              "      <th>Standard deviation of the integrated profile</th>\n",
              "      <th>Excess kurtosis of the integrated profile</th>\n",
              "      <th>Skewness of the integrated profile</th>\n",
              "      <th>Mean of the DM-SNR curve</th>\n",
              "      <th>Standard deviation of the DM-SNR curve</th>\n",
              "      <th>Excess kurtosis of the DM-SNR curve</th>\n",
              "      <th>Skewness of the DM-SNR curve</th>\n",
              "      <th>target_class</th>\n",
              "    </tr>\n",
              "  </thead>\n",
              "  <tbody>\n",
              "    <tr>\n",
              "      <th>0</th>\n",
              "      <td>140.562500</td>\n",
              "      <td>55.683782</td>\n",
              "      <td>-0.234571</td>\n",
              "      <td>-0.699648</td>\n",
              "      <td>3.199833</td>\n",
              "      <td>19.110426</td>\n",
              "      <td>7.975532</td>\n",
              "      <td>74.242225</td>\n",
              "      <td>0</td>\n",
              "    </tr>\n",
              "    <tr>\n",
              "      <th>1</th>\n",
              "      <td>102.507812</td>\n",
              "      <td>58.882430</td>\n",
              "      <td>0.465318</td>\n",
              "      <td>-0.515088</td>\n",
              "      <td>1.677258</td>\n",
              "      <td>14.860146</td>\n",
              "      <td>10.576487</td>\n",
              "      <td>127.393580</td>\n",
              "      <td>0</td>\n",
              "    </tr>\n",
              "    <tr>\n",
              "      <th>2</th>\n",
              "      <td>103.015625</td>\n",
              "      <td>39.341649</td>\n",
              "      <td>0.323328</td>\n",
              "      <td>1.051164</td>\n",
              "      <td>3.121237</td>\n",
              "      <td>21.744669</td>\n",
              "      <td>7.735822</td>\n",
              "      <td>63.171909</td>\n",
              "      <td>0</td>\n",
              "    </tr>\n",
              "    <tr>\n",
              "      <th>3</th>\n",
              "      <td>136.750000</td>\n",
              "      <td>57.178449</td>\n",
              "      <td>-0.068415</td>\n",
              "      <td>-0.636238</td>\n",
              "      <td>3.642977</td>\n",
              "      <td>20.959280</td>\n",
              "      <td>6.896499</td>\n",
              "      <td>53.593661</td>\n",
              "      <td>0</td>\n",
              "    </tr>\n",
              "    <tr>\n",
              "      <th>4</th>\n",
              "      <td>88.726562</td>\n",
              "      <td>40.672225</td>\n",
              "      <td>0.600866</td>\n",
              "      <td>1.123492</td>\n",
              "      <td>1.178930</td>\n",
              "      <td>11.468720</td>\n",
              "      <td>14.269573</td>\n",
              "      <td>252.567306</td>\n",
              "      <td>0</td>\n",
              "    </tr>\n",
              "  </tbody>\n",
              "</table>\n",
              "</div>"
            ],
            "text/plain": [
              "    Mean of the integrated profile  ...  target_class\n",
              "0                       140.562500  ...             0\n",
              "1                       102.507812  ...             0\n",
              "2                       103.015625  ...             0\n",
              "3                       136.750000  ...             0\n",
              "4                        88.726562  ...             0\n",
              "\n",
              "[5 rows x 9 columns]"
            ]
          },
          "metadata": {
            "tags": []
          },
          "execution_count": 4
        }
      ]
    },
    {
      "cell_type": "code",
      "metadata": {
        "id": "XReooG260MD6",
        "colab_type": "code",
        "outputId": "82611694-e2dd-4667-8bd7-6efde027fb41",
        "colab": {
          "base_uri": "https://localhost:8080/",
          "height": 252
        }
      },
      "source": [
        "data.info()"
      ],
      "execution_count": 0,
      "outputs": [
        {
          "output_type": "stream",
          "text": [
            "<class 'pandas.core.frame.DataFrame'>\n",
            "RangeIndex: 17898 entries, 0 to 17897\n",
            "Data columns (total 9 columns):\n",
            " Mean of the integrated profile                  17898 non-null float64\n",
            " Standard deviation of the integrated profile    17898 non-null float64\n",
            " Excess kurtosis of the integrated profile       17898 non-null float64\n",
            " Skewness of the integrated profile              17898 non-null float64\n",
            " Mean of the DM-SNR curve                        17898 non-null float64\n",
            " Standard deviation of the DM-SNR curve          17898 non-null float64\n",
            " Excess kurtosis of the DM-SNR curve             17898 non-null float64\n",
            " Skewness of the DM-SNR curve                    17898 non-null float64\n",
            "target_class                                     17898 non-null int64\n",
            "dtypes: float64(8), int64(1)\n",
            "memory usage: 1.2 MB\n"
          ],
          "name": "stdout"
        }
      ]
    },
    {
      "cell_type": "code",
      "metadata": {
        "id": "_FVS4mGU0VGO",
        "colab_type": "code",
        "outputId": "5500d884-c4c0-4544-8db3-df01f1c2bfd8",
        "colab": {
          "base_uri": "https://localhost:8080/",
          "height": 318
        }
      },
      "source": [
        "data.describe()"
      ],
      "execution_count": 0,
      "outputs": [
        {
          "output_type": "execute_result",
          "data": {
            "text/html": [
              "<div>\n",
              "<style scoped>\n",
              "    .dataframe tbody tr th:only-of-type {\n",
              "        vertical-align: middle;\n",
              "    }\n",
              "\n",
              "    .dataframe tbody tr th {\n",
              "        vertical-align: top;\n",
              "    }\n",
              "\n",
              "    .dataframe thead th {\n",
              "        text-align: right;\n",
              "    }\n",
              "</style>\n",
              "<table border=\"1\" class=\"dataframe\">\n",
              "  <thead>\n",
              "    <tr style=\"text-align: right;\">\n",
              "      <th></th>\n",
              "      <th>Mean of the integrated profile</th>\n",
              "      <th>Standard deviation of the integrated profile</th>\n",
              "      <th>Excess kurtosis of the integrated profile</th>\n",
              "      <th>Skewness of the integrated profile</th>\n",
              "      <th>Mean of the DM-SNR curve</th>\n",
              "      <th>Standard deviation of the DM-SNR curve</th>\n",
              "      <th>Excess kurtosis of the DM-SNR curve</th>\n",
              "      <th>Skewness of the DM-SNR curve</th>\n",
              "      <th>target_class</th>\n",
              "    </tr>\n",
              "  </thead>\n",
              "  <tbody>\n",
              "    <tr>\n",
              "      <th>count</th>\n",
              "      <td>17898.000000</td>\n",
              "      <td>17898.000000</td>\n",
              "      <td>17898.000000</td>\n",
              "      <td>17898.000000</td>\n",
              "      <td>17898.000000</td>\n",
              "      <td>17898.000000</td>\n",
              "      <td>17898.000000</td>\n",
              "      <td>17898.000000</td>\n",
              "      <td>17898.000000</td>\n",
              "    </tr>\n",
              "    <tr>\n",
              "      <th>mean</th>\n",
              "      <td>111.079968</td>\n",
              "      <td>46.549532</td>\n",
              "      <td>0.477857</td>\n",
              "      <td>1.770279</td>\n",
              "      <td>12.614400</td>\n",
              "      <td>26.326515</td>\n",
              "      <td>8.303556</td>\n",
              "      <td>104.857709</td>\n",
              "      <td>0.091574</td>\n",
              "    </tr>\n",
              "    <tr>\n",
              "      <th>std</th>\n",
              "      <td>25.652935</td>\n",
              "      <td>6.843189</td>\n",
              "      <td>1.064040</td>\n",
              "      <td>6.167913</td>\n",
              "      <td>29.472897</td>\n",
              "      <td>19.470572</td>\n",
              "      <td>4.506092</td>\n",
              "      <td>106.514540</td>\n",
              "      <td>0.288432</td>\n",
              "    </tr>\n",
              "    <tr>\n",
              "      <th>min</th>\n",
              "      <td>5.812500</td>\n",
              "      <td>24.772042</td>\n",
              "      <td>-1.876011</td>\n",
              "      <td>-1.791886</td>\n",
              "      <td>0.213211</td>\n",
              "      <td>7.370432</td>\n",
              "      <td>-3.139270</td>\n",
              "      <td>-1.976976</td>\n",
              "      <td>0.000000</td>\n",
              "    </tr>\n",
              "    <tr>\n",
              "      <th>25%</th>\n",
              "      <td>100.929688</td>\n",
              "      <td>42.376018</td>\n",
              "      <td>0.027098</td>\n",
              "      <td>-0.188572</td>\n",
              "      <td>1.923077</td>\n",
              "      <td>14.437332</td>\n",
              "      <td>5.781506</td>\n",
              "      <td>34.960504</td>\n",
              "      <td>0.000000</td>\n",
              "    </tr>\n",
              "    <tr>\n",
              "      <th>50%</th>\n",
              "      <td>115.078125</td>\n",
              "      <td>46.947479</td>\n",
              "      <td>0.223240</td>\n",
              "      <td>0.198710</td>\n",
              "      <td>2.801839</td>\n",
              "      <td>18.461316</td>\n",
              "      <td>8.433515</td>\n",
              "      <td>83.064556</td>\n",
              "      <td>0.000000</td>\n",
              "    </tr>\n",
              "    <tr>\n",
              "      <th>75%</th>\n",
              "      <td>127.085938</td>\n",
              "      <td>51.023202</td>\n",
              "      <td>0.473325</td>\n",
              "      <td>0.927783</td>\n",
              "      <td>5.464256</td>\n",
              "      <td>28.428104</td>\n",
              "      <td>10.702959</td>\n",
              "      <td>139.309331</td>\n",
              "      <td>0.000000</td>\n",
              "    </tr>\n",
              "    <tr>\n",
              "      <th>max</th>\n",
              "      <td>192.617188</td>\n",
              "      <td>98.778911</td>\n",
              "      <td>8.069522</td>\n",
              "      <td>68.101622</td>\n",
              "      <td>223.392140</td>\n",
              "      <td>110.642211</td>\n",
              "      <td>34.539844</td>\n",
              "      <td>1191.000837</td>\n",
              "      <td>1.000000</td>\n",
              "    </tr>\n",
              "  </tbody>\n",
              "</table>\n",
              "</div>"
            ],
            "text/plain": [
              "        Mean of the integrated profile  ...  target_class\n",
              "count                     17898.000000  ...  17898.000000\n",
              "mean                        111.079968  ...      0.091574\n",
              "std                          25.652935  ...      0.288432\n",
              "min                           5.812500  ...      0.000000\n",
              "25%                         100.929688  ...      0.000000\n",
              "50%                         115.078125  ...      0.000000\n",
              "75%                         127.085938  ...      0.000000\n",
              "max                         192.617188  ...      1.000000\n",
              "\n",
              "[8 rows x 9 columns]"
            ]
          },
          "metadata": {
            "tags": []
          },
          "execution_count": 5
        }
      ]
    },
    {
      "cell_type": "code",
      "metadata": {
        "id": "TMguCnVQdB9_",
        "colab_type": "code",
        "outputId": "9cb04f75-b6db-4d2c-bd2e-82830d173584",
        "colab": {
          "base_uri": "https://localhost:8080/",
          "height": 727
        }
      },
      "source": [
        "#data.corr()\n",
        "plt.figure( figsize=(12,8))\n",
        "sns.heatmap( data.corr(), annot=True )\n",
        "plt.show()"
      ],
      "execution_count": 0,
      "outputs": [
        {
          "output_type": "display_data",
          "data": {
            "image/png": "[encoded data removed]",
            "text/plain": [
              "<Figure size 864x576 with 2 Axes>"
            ]
          },
          "metadata": {
            "tags": []
          }
        }
      ]
    },
    {
      "cell_type": "code",
      "metadata": {
        "id": "4wAJ57Sy0qM0",
        "colab_type": "code",
        "outputId": "d99eadca-c3f0-4dd0-8f9c-fb1e72c37e89",
        "colab": {
          "base_uri": "https://localhost:8080/",
          "height": 281
        }
      },
      "source": [
        "data['target_class'].value_counts().plot(kind = 'bar', title = 'Count (target_class)')\n",
        "plt.show()"
      ],
      "execution_count": 0,
      "outputs": [
        {
          "output_type": "display_data",
          "data": {
            "image/png": "[encoded data removed]",
            "text/plain": [
              "<Figure size 432x288 with 1 Axes>"
            ]
          },
          "metadata": {
            "tags": []
          }
        }
      ]
    },
    {
      "cell_type": "code",
      "metadata": {
        "id": "90uhbXip37Zq",
        "colab_type": "code",
        "colab": {}
      },
      "source": [
        "X = np.array(data.iloc[:, 0:-1])\n",
        "Y = np.array(data.iloc[:, -1])"
      ],
      "execution_count": 0,
      "outputs": []
    },
    {
      "cell_type": "markdown",
      "metadata": {
        "id": "PWn9H4Ms531x",
        "colab_type": "text"
      },
      "source": [
        "# Let's split our dataset into a training / testing set and normalize inputs"
      ]
    },
    {
      "cell_type": "code",
      "metadata": {
        "id": "0RkriwZg4SOZ",
        "colab_type": "code",
        "outputId": "7193fa7a-f203-4b57-d27a-a57d68f98a63",
        "colab": {
          "base_uri": "https://localhost:8080/",
          "height": 84
        }
      },
      "source": [
        "from sklearn.linear_model import LogisticRegression\n",
        "from sklearn.model_selection import StratifiedShuffleSplit\n",
        "from sklearn.metrics import f1_score\n",
        "\n",
        "sss = StratifiedShuffleSplit(n_splits = 2, random_state = 0, test_size = 0.2)\n",
        "\n",
        "for train_index, test_index in sss.split(X, Y):\n",
        "    X_train, X_holdout = X[train_index], X[test_index]\n",
        "    Y_train, Y_holdout = Y[train_index], Y[test_index]\n",
        "\n",
        "from sklearn.preprocessing import StandardScaler\n",
        "\n",
        "std_sclr = StandardScaler()\n",
        "X_train   = std_sclr.fit_transform(X_train)\n",
        "X_holdout = std_sclr.fit_transform(X_holdout)\n",
        "\n",
        "print(X_train.shape)\n",
        "print(Y_train.shape)\n",
        "print(X_holdout.shape)\n",
        "print(Y_holdout.shape)"
      ],
      "execution_count": 8,
      "outputs": [
        {
          "output_type": "stream",
          "text": [
            "(14318, 8)\n",
            "(14318,)\n",
            "(3580, 8)\n",
            "(3580,)\n"
          ],
          "name": "stdout"
        }
      ]
    },
    {
      "cell_type": "markdown",
      "metadata": {
        "id": "Z4ILHmAm0mmX",
        "colab_type": "text"
      },
      "source": [
        "# Cross-Validation training with best coeff search"
      ]
    },
    {
      "cell_type": "code",
      "metadata": {
        "id": "0YK6E6yp0kqL",
        "colab_type": "code",
        "outputId": "b6012ef1-a4bf-415e-ab87-8b8356c2037a",
        "colab": {
          "base_uri": "https://localhost:8080/",
          "height": 54
        }
      },
      "source": [
        "from sklearn.model_selection import StratifiedKFold\n",
        "\n",
        "skf = StratifiedKFold(n_splits = 5, random_state = 42, shuffle = True)\n",
        "res_C = []\n",
        "for c in range(1, 100):\n",
        "  res = []\n",
        "  c = c / 10\n",
        "  for train_index, test_index in skf.split(X_train, Y_train):\n",
        "      x_train, x_test = X[train_index], X[test_index]\n",
        "      y_train, y_test = Y[train_index], Y[test_index]\n",
        "      lr = LogisticRegression(C=c, solver='liblinear')\n",
        "      lr.fit(x_train, y_train)\n",
        "      lr_prediction = lr.predict(x_test)\n",
        "      res.append( f1_score(y_test,lr_prediction) )\n",
        "      #lr_prediction_proba = lr.predict_proba(x_test)\n",
        "  res_C.append( ( c , np.mean(res) ) )\n",
        "\n",
        "print(res_C)"
      ],
      "execution_count": 0,
      "outputs": [
        {
          "output_type": "stream",
          "text": [
            "[(0.1, 0.8774624532240687), (0.2, 0.8830321163585388), (0.3, 0.8866876627129516), (0.4, 0.8882433718715349), (0.5, 0.8882433718715349), (0.6, 0.889823750973741), (0.7, 0.890260254560124), (0.8, 0.8899790567883924), (0.9, 0.8899437608425412), (1.0, 0.8899437608425412), (1.1, 0.8902622904804425), (1.2, 0.890586847526311), (1.3, 0.8910510652208069), (1.4, 0.8910510652208069), (1.5, 0.8914536390535078), (1.6, 0.8910347944957057), (1.7, 0.8913544398241076), (1.8, 0.8915313216172823), (1.9, 0.8911342827808015), (2.0, 0.8916426007105611), (2.1, 0.8912103921405192), (2.2, 0.8912117110902276), (2.3, 0.8908390033571137), (2.4, 0.8916115073723769), (2.5, 0.8915818428492379), (2.6, 0.8916632063271832), (2.7, 0.8912917556184643), (2.8, 0.8919470052078747), (2.9, 0.8916429606863648), (3.0, 0.8916632063271832), (3.1, 0.8923625087224265), (3.2, 0.89193243684914), (3.3, 0.8920628708710415), (3.4, 0.8916914201623227), (3.5, 0.892042756968514), (3.6, 0.8901604912435912), (3.7, 0.8919392797573569), (3.8, 0.8912386679009721), (3.9, 0.8916429606863648), (4.0, 0.8919512213273546), (4.1, 0.8922613934757317), (4.2, 0.8910961580892598), (4.3, 0.8893304383511079), (4.4, 0.8897113184167516), (4.5, 0.8912823262615396), (4.6, 0.8915597291160262), (4.7, 0.8919627124402773), (4.8, 0.8923625087224265), (4.9, 0.8938330969577206), (5.0, 0.8917241764664471), (5.1, 0.8897560162908738), (5.2, 0.8916632063271832), (5.3, 0.8909637457594727), (5.4, 0.8917241764664471), (5.5, 0.8909637457594727), (5.6, 0.8918797491346309), (5.7, 0.892042756968514), (5.8, 0.8923038875578587), (5.9, 0.8909800180246144), (6.0, 0.8919230074922151), (6.1, 0.8902006711011344), (6.2, 0.8920334063601152), (6.3, 0.8909190478853505), (6.4, 0.8906700895687927), (6.5, 0.8909731751163976), (6.6, 0.8920943764993791), (6.7, 0.8913339457924045), (6.8, 0.8917241764664471), (6.9, 0.8923625087224265), (7.0, 0.8904949094621226), (7.1, 0.8909800180246144), (7.2, 0.8923625087224265), (7.3, 0.8923077956623052), (7.4, 0.8930055519175644), (7.5, 0.8913243801842979), (7.6, 0.8901791065106075), (7.7, 0.8916429606863648), (7.8, 0.8923184559165935), (7.9, 0.890952929475579), (8.0, 0.8908887870585328), (8.1, 0.8905518142437213), (8.2, 0.8913243801842979), (8.3, 0.891241845454507), (8.4, 0.8909232649524401), (8.5, 0.890952929475579), (8.6, 0.8905518142437213), (8.7, 0.8922370287895308), (8.8, 0.8908703947457882), (8.9, 0.8937153277816421), (9.0, 0.890994927150002), (9.1, 0.8923625087224265), (9.2, 0.8916775633389378), (9.3, 0.8920490140476565), (9.4, 0.8919108722586129), (9.5, 0.8913230612345894), (9.6, 0.8913230612345894), (9.7, 0.8913527257577283), (9.8, 0.8909516105258705), (9.9, 0.8909435105932586)]\n"
          ],
          "name": "stdout"
        }
      ]
    },
    {
      "cell_type": "code",
      "metadata": {
        "id": "voZmFdY_EJ65",
        "colab_type": "code",
        "outputId": "4863e587-5d55-4533-f45f-84c498123939",
        "colab": {
          "base_uri": "https://localhost:8080/",
          "height": 202
        }
      },
      "source": [
        "from sklearn.metrics import confusion_matrix,classification_report\n",
        "from sklearn.metrics import confusion_matrix\n",
        "\n",
        "best_C = max(res_C, key=lambda x: x[1])\n",
        "print( best_C )\n",
        "# обучим модель на всех train данных с этим значением параметра\n",
        "lr = LogisticRegression(C=best_C[0], solver='liblinear')\n",
        "lr.fit(X_train, Y_train)\n",
        "#потом посчитать метрику на отложенном контроле\n",
        "lr_prediction = lr.predict(X_holdout)\n",
        "lr_prediction_proba = lr.predict_proba(X_holdout)\n",
        "\n",
        "cm_lr=confusion_matrix(Y_holdout, lr_prediction)\n",
        "cm_lr=pd.DataFrame(cm_lr)\n",
        "cr_lr=classification_report(Y_holdout,lr_prediction)\n",
        "\n",
        "print('Classification report for Logistic Regression: \\n',cr_lr)"
      ],
      "execution_count": 0,
      "outputs": [
        {
          "output_type": "stream",
          "text": [
            "(4.9, 0.8938330969577206)\n",
            "Classification report for Logistic Regression: \n",
            "               precision    recall  f1-score   support\n",
            "\n",
            "           0       0.98      0.99      0.99      4878\n",
            "           1       0.93      0.83      0.88       492\n",
            "\n",
            "    accuracy                           0.98      5370\n",
            "   macro avg       0.96      0.91      0.93      5370\n",
            "weighted avg       0.98      0.98      0.98      5370\n",
            "\n"
          ],
          "name": "stdout"
        }
      ]
    },
    {
      "cell_type": "code",
      "metadata": {
        "id": "SrEPNCDtLzG6",
        "colab_type": "code",
        "outputId": "fce1c479-4cc1-4049-be52-0a1dad3832d6",
        "colab": {
          "base_uri": "https://localhost:8080/",
          "height": 134
        }
      },
      "source": [
        "print(lr_prediction_proba)"
      ],
      "execution_count": 0,
      "outputs": [
        {
          "output_type": "stream",
          "text": [
            "[[0.91160182 0.08839818]\n",
            " [0.97029195 0.02970805]\n",
            " [0.96730171 0.03269829]\n",
            " ...\n",
            " [0.94022066 0.05977934]\n",
            " [0.9966053  0.0033947 ]\n",
            " [0.9932593  0.0067407 ]]\n"
          ],
          "name": "stdout"
        }
      ]
    },
    {
      "cell_type": "markdown",
      "metadata": {
        "id": "GkHbr16NOvF3",
        "colab_type": "text"
      },
      "source": [
        "#Logistic Regression with Cross-Validation"
      ]
    },
    {
      "cell_type": "code",
      "metadata": {
        "id": "KyDaGt7WOsR1",
        "colab_type": "code",
        "outputId": "c7ed4de1-8bea-4c2a-ae33-8030fb8d750c",
        "colab": {
          "base_uri": "https://localhost:8080/",
          "height": 252
        }
      },
      "source": [
        "from sklearn.linear_model import LogisticRegression, LogisticRegressionCV\n",
        "from sklearn.metrics import confusion_matrix,classification_report\n",
        "\n",
        "#lr = LogisticRegression(solver='liblinear')\n",
        "lr = LogisticRegressionCV(cv=10,\n",
        "                          solver='liblinear'\n",
        "                          #multi_class='ovr',\n",
        "                          #random_state=None\n",
        "                         )\n",
        "lr.fit(X_train, Y_train)\n",
        "lr_prediction = lr.predict(X_holdout)\n",
        "lr_prediction_proba = lr.predict_proba(X_holdout)\n",
        "\n",
        "cm_lr=confusion_matrix(Y_holdout, lr_prediction)\n",
        "cm_lr=pd.DataFrame(cm_lr)\n",
        "cr_lr=classification_report(Y_holdout, lr_prediction)\n",
        "\n",
        "print('Classification report for Logistic Regression: \\n',cr_lr)\n",
        "print('Confusion matrix for Logistic Regression: \\n ', cm_lr)"
      ],
      "execution_count": 9,
      "outputs": [
        {
          "output_type": "stream",
          "text": [
            "Classification report for Logistic Regression: \n",
            "               precision    recall  f1-score   support\n",
            "\n",
            "           0       0.98      1.00      0.99      3252\n",
            "           1       0.94      0.78      0.85       328\n",
            "\n",
            "    accuracy                           0.98      3580\n",
            "   macro avg       0.96      0.89      0.92      3580\n",
            "weighted avg       0.97      0.98      0.97      3580\n",
            "\n",
            "Confusion matrix for Logistic Regression: \n",
            "        0    1\n",
            "0  3236   16\n",
            "1    72  256\n"
          ],
          "name": "stdout"
        }
      ]
    },
    {
      "cell_type": "code",
      "metadata": {
        "id": "Gtpx898hf6l5",
        "colab_type": "code",
        "outputId": "33dd3484-73fd-47d3-e47f-9b5d7d20cf5c",
        "colab": {
          "base_uri": "https://localhost:8080/",
          "height": 290
        }
      },
      "source": [
        "sns.distplot(lr_prediction_proba[:,1])"
      ],
      "execution_count": 0,
      "outputs": [
        {
          "output_type": "execute_result",
          "data": {
            "text/plain": [
              "<matplotlib.axes._subplots.AxesSubplot at 0x7f9af5a53940>"
            ]
          },
          "metadata": {
            "tags": []
          },
          "execution_count": 14
        },
        {
          "output_type": "display_data",
          "data": {
            "image/png": "[encoded data removed]",
            "text/plain": [
              "<Figure size 432x288 with 1 Axes>"
            ]
          },
          "metadata": {
            "tags": []
          }
        }
      ]
    },
    {
      "cell_type": "code",
      "metadata": {
        "id": "QqTOopiKlNVc",
        "colab_type": "code",
        "outputId": "3d962db4-cda4-4670-f38f-545152081832",
        "colab": {
          "base_uri": "https://localhost:8080/",
          "height": 50
        }
      },
      "source": [
        "lr.coef_"
      ],
      "execution_count": 15,
      "outputs": [
        {
          "output_type": "execute_result",
          "data": {
            "text/plain": [
              "array([[ 0.70833403, -0.24917397,  6.60062247, -3.46940909, -0.82919573,\n",
              "         1.09190581,  0.39003138, -0.66218402]])"
            ]
          },
          "metadata": {
            "tags": []
          },
          "execution_count": 15
        }
      ]
    },
    {
      "cell_type": "code",
      "metadata": {
        "id": "4O8OThZChhAZ",
        "colab_type": "code",
        "outputId": "be18fcaa-3752-4ca5-9b3f-651d9ca40c57",
        "colab": {
          "base_uri": "https://localhost:8080/",
          "height": 34
        }
      },
      "source": [
        "from sklearn.metrics import average_precision_score\n",
        "average_precision = average_precision_score(Y_holdout, lr_prediction_proba[:,1])\n",
        "\n",
        "print('Average precision-recall score: {0:0.2f}'.format(average_precision))"
      ],
      "execution_count": 0,
      "outputs": [
        {
          "output_type": "stream",
          "text": [
            "Average precision-recall score: 0.91\n"
          ],
          "name": "stdout"
        }
      ]
    },
    {
      "cell_type": "code",
      "metadata": {
        "id": "O9o23vdqhQBY",
        "colab_type": "code",
        "outputId": "2aaa9a76-5713-4f0f-9cdc-c3d1ea777cfa",
        "colab": {
          "base_uri": "https://localhost:8080/",
          "height": 470
        }
      },
      "source": [
        "from sklearn.metrics import precision_recall_curve\n",
        "import matplotlib.pyplot as plt\n",
        "from inspect import signature\n",
        "\n",
        "precision, recall, _ = precision_recall_curve(Y_holdout, lr_prediction_proba[:,1])\n",
        "\n",
        "# In matplotlib < 1.5, plt.fill_between does not have a 'step' argument\n",
        "step_kwargs = ({'step': 'post'}\n",
        "               if 'step' in signature(plt.fill_between).parameters\n",
        "               else {})\n",
        "plt.step(recall, precision, color='b', alpha=0.2,\n",
        "         where='post')\n",
        "plt.fill_between(recall, precision, alpha=0.2, color='b', **step_kwargs)\n",
        "\n",
        "plt.xlabel('Recall')\n",
        "plt.ylabel('Precision')\n",
        "plt.ylim([0.0, 1.05])\n",
        "plt.xlim([0.0, 1.0])\n",
        "plt.title('2-class Precision-Recall curve: AP={0:0.2f}'.format(\n",
        "          average_precision))"
      ],
      "execution_count": 16,
      "outputs": [
        {
          "output_type": "error",
          "ename": "NameError",
          "evalue": "ignored",
          "traceback": [
            "\u001b[0;31m---------------------------------------------------------------------------\u001b[0m",
            "\u001b[0;31mNameError\u001b[0m                                 Traceback (most recent call last)",
            "\u001b[0;32m<ipython-input-16-3b1433216850>\u001b[0m in \u001b[0;36m<module>\u001b[0;34m()\u001b[0m\n\u001b[1;32m     18\u001b[0m \u001b[0mplt\u001b[0m\u001b[0;34m.\u001b[0m\u001b[0mxlim\u001b[0m\u001b[0;34m(\u001b[0m\u001b[0;34m[\u001b[0m\u001b[0;36m0.0\u001b[0m\u001b[0;34m,\u001b[0m \u001b[0;36m1.0\u001b[0m\u001b[0;34m]\u001b[0m\u001b[0;34m)\u001b[0m\u001b[0;34m\u001b[0m\u001b[0;34m\u001b[0m\u001b[0m\n\u001b[1;32m     19\u001b[0m plt.title('2-class Precision-Recall curve: AP={0:0.2f}'.format(\n\u001b[0;32m---> 20\u001b[0;31m           average_precision))\n\u001b[0m",
            "\u001b[0;31mNameError\u001b[0m: name 'average_precision' is not defined"
          ]
        },
        {
          "output_type": "display_data",
          "data": {
            "image/png": "[encoded data removed]",
            "text/plain": [
              "<Figure size 432x288 with 1 Axes>"
            ]
          },
          "metadata": {
            "tags": []
          }
        }
      ]
    },
    {
      "cell_type": "markdown",
      "metadata": {
        "id": "mxgCHngG7swa",
        "colab_type": "text"
      },
      "source": [
        "![Confusion Matrix](http://rasbt.github.io/mlxtend/user_guide/evaluate/confusion_matrix_files/confusion_matrix_1.png)"
      ]
    },
    {
      "cell_type": "code",
      "metadata": {
        "id": "a2IxN-gNQrUE",
        "colab_type": "code",
        "outputId": "bf9c454f-c2b6-4f54-9e46-429a1a152ba4",
        "colab": {
          "base_uri": "https://localhost:8080/",
          "height": 229
        }
      },
      "source": [
        "#plt.figure( figsize=(12,8))\n",
        "g = sns.heatmap(cm_lr,annot=True,fmt=\".1f\")\n",
        "g.set_ylabel('y_true')\n",
        "g.set_xlabel('y_pred')\n",
        "g.set_title(\"Logistic Regression\")\n",
        "plt.show()"
      ],
      "execution_count": 1,
      "outputs": [
        {
          "output_type": "error",
          "ename": "NameError",
          "evalue": "ignored",
          "traceback": [
            "\u001b[0;31m---------------------------------------------------------------------------\u001b[0m",
            "\u001b[0;31mNameError\u001b[0m                                 Traceback (most recent call last)",
            "\u001b[0;32m<ipython-input-1-b87f16c4fa29>\u001b[0m in \u001b[0;36m<module>\u001b[0;34m()\u001b[0m\n\u001b[1;32m      1\u001b[0m \u001b[0;32mimport\u001b[0m \u001b[0mseaborn\u001b[0m \u001b[0;32mas\u001b[0m \u001b[0msns\u001b[0m\u001b[0;34m\u001b[0m\u001b[0;34m\u001b[0m\u001b[0m\n\u001b[1;32m      2\u001b[0m \u001b[0;31m#plt.figure( figsize=(12,8))\u001b[0m\u001b[0;34m\u001b[0m\u001b[0;34m\u001b[0m\u001b[0;34m\u001b[0m\u001b[0m\n\u001b[0;32m----> 3\u001b[0;31m \u001b[0mg\u001b[0m \u001b[0;34m=\u001b[0m \u001b[0msns\u001b[0m\u001b[0;34m.\u001b[0m\u001b[0mheatmap\u001b[0m\u001b[0;34m(\u001b[0m\u001b[0mcm_lr\u001b[0m\u001b[0;34m,\u001b[0m\u001b[0mannot\u001b[0m\u001b[0;34m=\u001b[0m\u001b[0;32mTrue\u001b[0m\u001b[0;34m,\u001b[0m\u001b[0mfmt\u001b[0m\u001b[0;34m=\u001b[0m\u001b[0;34m\".1f\"\u001b[0m\u001b[0;34m)\u001b[0m\u001b[0;34m\u001b[0m\u001b[0;34m\u001b[0m\u001b[0m\n\u001b[0m\u001b[1;32m      4\u001b[0m \u001b[0mg\u001b[0m\u001b[0;34m.\u001b[0m\u001b[0mset_ylabel\u001b[0m\u001b[0;34m(\u001b[0m\u001b[0;34m'y_true'\u001b[0m\u001b[0;34m)\u001b[0m\u001b[0;34m\u001b[0m\u001b[0;34m\u001b[0m\u001b[0m\n\u001b[1;32m      5\u001b[0m \u001b[0mg\u001b[0m\u001b[0;34m.\u001b[0m\u001b[0mset_xlabel\u001b[0m\u001b[0;34m(\u001b[0m\u001b[0;34m'y_pred'\u001b[0m\u001b[0;34m)\u001b[0m\u001b[0;34m\u001b[0m\u001b[0;34m\u001b[0m\u001b[0m\n",
            "\u001b[0;31mNameError\u001b[0m: name 'cm_lr' is not defined"
          ]
        }
      ]
    },
    {
      "cell_type": "code",
      "metadata": {
        "id": "-kObHPYStkbR",
        "colab_type": "code",
        "outputId": "803279ca-f366-4d3a-c073-92b0bbfb2802",
        "colab": {
          "base_uri": "https://localhost:8080/",
          "height": 202
        }
      },
      "source": [
        "import datetime\n",
        "from sklearn import svm, datasets\n",
        "from sklearn.model_selection import GridSearchCV\n",
        "#penalty : str, ‘l1’, ‘l2’, or ‘elasticnet’, optional (default=’l2’)\n",
        "#‘newton-cg’, ‘lbfgs’, ‘sag’ and ‘saga’ handle L2 or no penalty\n",
        "#‘liblinear’ and ‘saga’ also handle L1 penalty\n",
        "#‘saga’ also supports ‘elasticnet’ penalty\n",
        "#‘liblinear’ does not handle no penalty\n",
        "grid = [\n",
        "  #{'C': np.logspace(-3,3,1000), \"solver\": [\"newton-cg\", \"lbfgs\"], \"penalty\":[\"l2\"]},\n",
        "  #{'C': np.logspace(-3,3,100), \"solver\": [\"sag\"], \"penalty\":[\"l2\"], \"max_iter\": [4000]},\n",
        "  #{'C': np.logspace(-3,3,1000), \"solver\": [\"saga\"], \"penalty\":[\"elasticnet\"], \"l1_ratio\":np.linspace(0, 1, num=10)},\n",
        "  {'C': np.logspace(-3,3,1000), \"solver\": [\"liblinear\"], \"penalty\":[\"l1\",\"l2\"]} #\"solver\": [\"liblinear\", \"saga\"],\n",
        "] # l1 lasso l2 ridge\n",
        "lr = LogisticRegression();\n",
        "clf = GridSearchCV(lr, grid, scoring = ['precision'], refit = 'precision', cv=10)\n",
        "# Fit grid search\n",
        "print('GridSearchCV start')\n",
        "start_time  = datetime.datetime.now()\n",
        "\n",
        "best_model = clf.fit(X_train, Y_train)\n",
        "\n",
        "end_time = datetime.datetime.now()\n",
        "print('GridSearchCV end, Time Cost: %d' % ((end_time - start_time).seconds) )\n",
        "\n",
        "# View best hyperparameters\n",
        "print('Best C:', best_model.best_estimator_.get_params()['C'])\n",
        "#print('Best Solver:', best_model.best_estimator_.get_params()['solver'])\n",
        "print('Best Penalty:', best_model.best_estimator_.get_params()['penalty'])\n",
        "print('Best l1_ratio:', best_model.best_estimator_.get_params()['l1_ratio'])\n",
        "#Predict Using Best Model\n",
        "lr_prediction=best_model.predict(X_holdout)\n",
        "cm_lr=confusion_matrix(Y_holdout, lr_prediction)\n",
        "print(cm_lr)\n",
        "\n",
        "#tuned hyperparameters :(best parameters)  {'C': 4.328761281083062, 'penalty': 'l2', 'solver': 'liblinear'}\n",
        "\n",
        "#print(clf.cv_results_)\n",
        "print(clf.best_score_)\n",
        "# View the best parameters for the model found using grid search\n",
        "print(\"Best parameters: \", clf.best_params_)\n",
        "\n",
        "# Calculate Precision and Recall\n",
        "tn, fp, fn, tp = cm_lr.ravel()\n",
        "\n",
        "precision = tp/(tp+fp)\n",
        "recall = tp/(tp+fn)\n",
        "\n",
        "print(\"Recall of the model is {:.2f}\".format(recall))\n",
        "print(\"Precision of the model is {:.2f}\".format(precision))\n",
        "#GridSearchCV scoring = recall\n",
        "#[[3236   16]\n",
        "# [  70  258]]\n",
        "#0.8344902970131823\n",
        "#Best parameters:  {'C': 7.275483529196225, 'penalty': 'l2', 'solver': 'liblinear'}\n",
        "#Recall of the model is 0.79\n",
        "#Precision of the model is 0.94"
      ],
      "execution_count": 19,
      "outputs": [
        {
          "output_type": "stream",
          "text": [
            "GridSearchCV start\n",
            "GridSearchCV end, Time Cost: 1764\n",
            "Best C: 0.0010568759711848039\n",
            "Best Penalty: l1\n",
            "Best l1_ratio: None\n",
            "[[3251    1]\n",
            " [ 146  182]]\n",
            "0.9906396166577998\n",
            "Best parameters:  {'C': 0.0010568759711848039, 'penalty': 'l1', 'solver': 'liblinear'}\n",
            "Recall of the model is 0.55\n",
            "Precision of the model is 0.99\n"
          ],
          "name": "stdout"
        }
      ]
    },
    {
      "cell_type": "code",
      "metadata": {
        "id": "GtBksM0W-q5Q",
        "colab_type": "code",
        "outputId": "72a21386-e351-4b36-b2e5-cbc9562b82d8",
        "colab": {
          "base_uri": "https://localhost:8080/",
          "height": 168
        }
      },
      "source": [
        "import datetime\n",
        "import pprint\n",
        "import xgboost as xgb\n",
        "from sklearn.model_selection import GridSearchCV\n",
        "\n",
        "print('Select Model...')\n",
        "start_time  = datetime.datetime.now()\n",
        "xgb_clf = xgb.XGBClassifier(objective=\"binary:logistic\", random_state=42)\n",
        "parameters = {'n_estimators': np.linspace(1, 100, 11).astype(np.int64), 'max_depth':np.linspace(1, 10, 10).astype(np.int64)}\n",
        "grid_search = GridSearchCV(estimator=xgb_clf, scoring = 'f1', param_grid=parameters, cv=10, n_jobs=-1)\n",
        "print(\"parameters:\")\n",
        "pprint.pprint(parameters)\n",
        "grid_search.fit(X_train, Y_train)\n",
        "print(\"Best score: %0.3f\" % grid_search.best_score_)\n",
        "print(\"Best parameters set:\")\n",
        "best_parameters=grid_search.best_estimator_.get_params()\n",
        "for param_name in sorted(parameters.keys()):\n",
        "    print(\"\\t%s: %r\" % (param_name, best_parameters[param_name]))\n",
        "end_time = datetime.datetime.now()\n",
        "print('Select Done..., Time Cost: %d' % ((end_time - start_time).seconds) )\n",
        "#{'max_depth': [3, 5, 7, 9], 'n_estimators': [120, 100, 140]}\n",
        "#Best score: 0.893\n",
        "#Best parameters set:\tmax_depth: 5\tn_estimators: 100"
      ],
      "execution_count": 26,
      "outputs": [
        {
          "output_type": "stream",
          "text": [
            "Select Model...\n",
            "parameters:\n",
            "{'max_depth': array([ 1,  2,  3,  4,  5,  6,  7,  8,  9, 10]),\n",
            " 'n_estimators': array([  1,  10,  20,  30,  40,  50,  60,  70,  80,  90, 100])}\n",
            "Best score: 0.937\n",
            "Best parameters set:\n",
            "\tmax_depth: 2\n",
            "\tn_estimators: 1\n",
            "Select Done..., Time Cost: 654\n"
          ],
          "name": "stdout"
        }
      ]
    },
    {
      "cell_type": "code",
      "metadata": {
        "id": "u2T4scClFJqI",
        "colab_type": "code",
        "outputId": "2fc6059e-94db-4a78-986b-7837b464afdb",
        "colab": {
          "base_uri": "https://localhost:8080/",
          "height": 84
        }
      },
      "source": [
        "from sklearn.metrics import confusion_matrix,classification_report\n",
        "\n",
        "xgb_pred = grid_search.predict(X_holdout)\n",
        "cm_xgb = confusion_matrix(Y_holdout, xgb_pred)\n",
        "print(cm_xgb)\n",
        "#[[4844   34]\n",
        "# [  70  422]]\n",
        "#[[3235   17]\n",
        "# [  75  253]]\n",
        "\n",
        "# Calculate Precision and Recall\n",
        "tn, fp, fn, tp = cm_xgb.ravel()\n",
        "\n",
        "precision = tp/(tp+fp)\n",
        "recall = tp/(tp+fn)\n",
        "\n",
        "print(\"Recall of the model is {:.2f}\".format(recall))\n",
        "print(\"Precision of the model is {:.2f}\".format(precision))"
      ],
      "execution_count": 27,
      "outputs": [
        {
          "output_type": "stream",
          "text": [
            "[[3235   17]\n",
            " [  75  253]]\n",
            "Recall of the model is 0.77\n",
            "Precision of the model is 0.94\n"
          ],
          "name": "stdout"
        }
      ]
    },
    {
      "cell_type": "code",
      "metadata": {
        "id": "vTyGrkBFyMUx",
        "colab_type": "code",
        "colab": {
          "base_uri": "https://localhost:8080/",
          "height": 34
        },
        "outputId": "a1f37680-a7c2-4800-af17-791acaf1251b"
      },
      "source": [
        "np.linspace(1, 100, 11).astype(np.int64)"
      ],
      "execution_count": 25,
      "outputs": [
        {
          "output_type": "execute_result",
          "data": {
            "text/plain": [
              "array([  1,  10,  20,  30,  40,  50,  60,  70,  80,  90, 100])"
            ]
          },
          "metadata": {
            "tags": []
          },
          "execution_count": 25
        }
      ]
    },
    {
      "cell_type": "markdown",
      "metadata": {
        "id": "nhxsMmhW6vga",
        "colab_type": "text"
      },
      "source": [
        "#Build model with Keras"
      ]
    },
    {
      "cell_type": "code",
      "metadata": {
        "id": "z1QvItf66tRf",
        "colab_type": "code",
        "outputId": "9fe6fab3-233e-41c8-d68d-bba29a62f2be",
        "colab": {
          "base_uri": "https://localhost:8080/",
          "height": 356
        }
      },
      "source": [
        "model = keras.models.Sequential()\n",
        "model.add(keras.layers.Dense(32, activation = 'relu', input_shape = (x_train.shape[1],)))\n",
        "model.add(keras.layers.Dense(1, activation = 'sigmoid'))\n",
        "model.compile(optimizer='adam',          # this update the weights of our model\n",
        "              loss='binary_crossentropy',# this mesures how accurate our model during training\n",
        "                  #'sparse_categorical_crossentropy',\n",
        "              metrics=['mae', 'acc'])    # this used for monitoring the training and testing steps\n",
        "model.summary()"
      ],
      "execution_count": 0,
      "outputs": [
        {
          "output_type": "stream",
          "text": [
            "WARNING: Logging before flag parsing goes to stderr.\n",
            "W0823 13:58:50.580233 140304670128000 deprecation.py:506] From /usr/local/lib/python3.6/dist-packages/tensorflow/python/ops/init_ops.py:1251: calling VarianceScaling.__init__ (from tensorflow.python.ops.init_ops) with dtype is deprecated and will be removed in a future version.\n",
            "Instructions for updating:\n",
            "Call initializer instance with the dtype argument instead of passing it to the constructor\n",
            "W0823 13:58:50.725167 140304670128000 deprecation.py:323] From /usr/local/lib/python3.6/dist-packages/tensorflow/python/ops/nn_impl.py:180: add_dispatch_support.<locals>.wrapper (from tensorflow.python.ops.array_ops) is deprecated and will be removed in a future version.\n",
            "Instructions for updating:\n",
            "Use tf.where in 2.0, which has the same broadcast rule as np.where\n"
          ],
          "name": "stderr"
        },
        {
          "output_type": "stream",
          "text": [
            "Model: \"sequential\"\n",
            "_________________________________________________________________\n",
            "Layer (type)                 Output Shape              Param #   \n",
            "=================================================================\n",
            "dense (Dense)                (None, 32)                288       \n",
            "_________________________________________________________________\n",
            "dense_1 (Dense)              (None, 1)                 33        \n",
            "=================================================================\n",
            "Total params: 321\n",
            "Trainable params: 321\n",
            "Non-trainable params: 0\n",
            "_________________________________________________________________\n"
          ],
          "name": "stdout"
        }
      ]
    },
    {
      "cell_type": "code",
      "metadata": {
        "id": "5OHlBBi79rP5",
        "colab_type": "code",
        "outputId": "71032fe9-4420-4ea8-bd7d-f6bdcd963292",
        "colab": {
          "base_uri": "https://localhost:8080/",
          "height": 1000
        }
      },
      "source": [
        "#callbacks = [keras.callbacks.EarlyStopping(monitor = 'loss', patience = 5, restore_best_weights = True)]\n",
        "history = model.fit(x_train, y_train, epochs=100) #, callbacks=callbacks"
      ],
      "execution_count": 0,
      "outputs": [
        {
          "output_type": "stream",
          "text": [
            "Epoch 1/100\n",
            "10023/10023 [==============================] - 1s 79us/sample - loss: 0.3055 - mean_absolute_error: 0.0609 - acc: 0.9535\n",
            "Epoch 2/100\n",
            "10023/10023 [==============================] - 0s 42us/sample - loss: 0.1276 - mean_absolute_error: 0.0489 - acc: 0.9683\n",
            "Epoch 3/100\n",
            "10023/10023 [==============================] - 0s 43us/sample - loss: 0.1162 - mean_absolute_error: 0.0474 - acc: 0.9694\n",
            "Epoch 4/100\n",
            "10023/10023 [==============================] - 0s 41us/sample - loss: 0.1218 - mean_absolute_error: 0.0484 - acc: 0.9695\n",
            "Epoch 5/100\n",
            "10023/10023 [==============================] - 0s 42us/sample - loss: 0.1161 - mean_absolute_error: 0.0473 - acc: 0.9690\n",
            "Epoch 6/100\n",
            "10023/10023 [==============================] - 0s 47us/sample - loss: 0.1123 - mean_absolute_error: 0.0475 - acc: 0.9694\n",
            "Epoch 7/100\n",
            "10023/10023 [==============================] - 0s 42us/sample - loss: 0.1111 - mean_absolute_error: 0.0472 - acc: 0.9685\n",
            "Epoch 8/100\n",
            "10023/10023 [==============================] - 0s 44us/sample - loss: 0.1102 - mean_absolute_error: 0.0464 - acc: 0.9706\n",
            "Epoch 9/100\n",
            "10023/10023 [==============================] - 0s 42us/sample - loss: 0.1125 - mean_absolute_error: 0.0466 - acc: 0.9713\n",
            "Epoch 10/100\n",
            "10023/10023 [==============================] - 0s 42us/sample - loss: 0.1056 - mean_absolute_error: 0.0464 - acc: 0.9712\n",
            "Epoch 11/100\n",
            "10023/10023 [==============================] - 0s 43us/sample - loss: 0.1082 - mean_absolute_error: 0.0464 - acc: 0.9707\n",
            "Epoch 12/100\n",
            "10023/10023 [==============================] - 0s 43us/sample - loss: 0.1110 - mean_absolute_error: 0.0471 - acc: 0.9695\n",
            "Epoch 13/100\n",
            "10023/10023 [==============================] - 0s 42us/sample - loss: 0.1068 - mean_absolute_error: 0.0462 - acc: 0.9714\n",
            "Epoch 14/100\n",
            "10023/10023 [==============================] - 0s 43us/sample - loss: 0.1042 - mean_absolute_error: 0.0464 - acc: 0.9722\n",
            "Epoch 15/100\n",
            "10023/10023 [==============================] - 0s 40us/sample - loss: 0.1054 - mean_absolute_error: 0.0462 - acc: 0.9704\n",
            "Epoch 16/100\n",
            "10023/10023 [==============================] - 0s 44us/sample - loss: 0.1041 - mean_absolute_error: 0.0452 - acc: 0.9716\n",
            "Epoch 17/100\n",
            "10023/10023 [==============================] - 0s 39us/sample - loss: 0.1043 - mean_absolute_error: 0.0464 - acc: 0.9704\n",
            "Epoch 18/100\n",
            "10023/10023 [==============================] - 0s 40us/sample - loss: 0.1045 - mean_absolute_error: 0.0461 - acc: 0.9713\n",
            "Epoch 19/100\n",
            "10023/10023 [==============================] - 0s 40us/sample - loss: 0.1056 - mean_absolute_error: 0.0456 - acc: 0.9696\n",
            "Epoch 20/100\n",
            "10023/10023 [==============================] - 0s 40us/sample - loss: 0.1040 - mean_absolute_error: 0.0458 - acc: 0.9721\n",
            "Epoch 21/100\n",
            "10023/10023 [==============================] - 0s 43us/sample - loss: 0.1001 - mean_absolute_error: 0.0455 - acc: 0.9728\n",
            "Epoch 22/100\n",
            "10023/10023 [==============================] - 0s 38us/sample - loss: 0.1058 - mean_absolute_error: 0.0454 - acc: 0.9721\n",
            "Epoch 23/100\n",
            "10023/10023 [==============================] - 0s 42us/sample - loss: 0.1012 - mean_absolute_error: 0.0454 - acc: 0.9731\n",
            "Epoch 24/100\n",
            "10023/10023 [==============================] - 0s 41us/sample - loss: 0.1047 - mean_absolute_error: 0.0458 - acc: 0.9707\n",
            "Epoch 25/100\n",
            "10023/10023 [==============================] - 0s 43us/sample - loss: 0.1016 - mean_absolute_error: 0.0451 - acc: 0.9729\n",
            "Epoch 26/100\n",
            "10023/10023 [==============================] - 0s 42us/sample - loss: 0.0984 - mean_absolute_error: 0.0453 - acc: 0.9732\n",
            "Epoch 27/100\n",
            "10023/10023 [==============================] - 0s 39us/sample - loss: 0.0990 - mean_absolute_error: 0.0451 - acc: 0.9717\n",
            "Epoch 28/100\n",
            "10023/10023 [==============================] - 0s 40us/sample - loss: 0.0994 - mean_absolute_error: 0.0457 - acc: 0.9721\n",
            "Epoch 29/100\n",
            "10023/10023 [==============================] - 0s 40us/sample - loss: 0.0973 - mean_absolute_error: 0.0444 - acc: 0.9732\n",
            "Epoch 30/100\n",
            "10023/10023 [==============================] - 0s 42us/sample - loss: 0.1039 - mean_absolute_error: 0.0462 - acc: 0.9723\n",
            "Epoch 31/100\n",
            "10023/10023 [==============================] - 0s 42us/sample - loss: 0.1046 - mean_absolute_error: 0.0450 - acc: 0.9721\n",
            "Epoch 32/100\n",
            "10023/10023 [==============================] - 0s 39us/sample - loss: 0.1023 - mean_absolute_error: 0.0455 - acc: 0.9724\n",
            "Epoch 33/100\n",
            "10023/10023 [==============================] - 0s 41us/sample - loss: 0.0963 - mean_absolute_error: 0.0443 - acc: 0.9733\n",
            "Epoch 34/100\n",
            "10023/10023 [==============================] - 0s 41us/sample - loss: 0.1008 - mean_absolute_error: 0.0443 - acc: 0.9742\n",
            "Epoch 35/100\n",
            "10023/10023 [==============================] - 0s 40us/sample - loss: 0.0961 - mean_absolute_error: 0.0446 - acc: 0.9740\n",
            "Epoch 36/100\n",
            "10023/10023 [==============================] - 0s 41us/sample - loss: 0.0964 - mean_absolute_error: 0.0443 - acc: 0.9743\n",
            "Epoch 37/100\n",
            "10023/10023 [==============================] - 0s 38us/sample - loss: 0.0971 - mean_absolute_error: 0.0443 - acc: 0.9731\n",
            "Epoch 38/100\n",
            "10023/10023 [==============================] - 0s 41us/sample - loss: 0.0967 - mean_absolute_error: 0.0440 - acc: 0.9732\n",
            "Epoch 39/100\n",
            "10023/10023 [==============================] - 0s 40us/sample - loss: 0.1002 - mean_absolute_error: 0.0442 - acc: 0.9734\n",
            "Epoch 40/100\n",
            "10023/10023 [==============================] - 0s 40us/sample - loss: 0.0988 - mean_absolute_error: 0.0445 - acc: 0.9728\n",
            "Epoch 41/100\n",
            "10023/10023 [==============================] - 0s 41us/sample - loss: 0.0958 - mean_absolute_error: 0.0438 - acc: 0.9737\n",
            "Epoch 42/100\n",
            "10023/10023 [==============================] - 0s 41us/sample - loss: 0.0971 - mean_absolute_error: 0.0443 - acc: 0.9734\n",
            "Epoch 43/100\n",
            "10023/10023 [==============================] - 0s 42us/sample - loss: 0.0974 - mean_absolute_error: 0.0440 - acc: 0.9741\n",
            "Epoch 44/100\n",
            "10023/10023 [==============================] - 0s 39us/sample - loss: 0.0975 - mean_absolute_error: 0.0437 - acc: 0.9736\n",
            "Epoch 45/100\n",
            "10023/10023 [==============================] - 0s 40us/sample - loss: 0.0965 - mean_absolute_error: 0.0437 - acc: 0.9726\n",
            "Epoch 46/100\n",
            "10023/10023 [==============================] - 0s 40us/sample - loss: 0.0957 - mean_absolute_error: 0.0432 - acc: 0.9737\n",
            "Epoch 47/100\n",
            "10023/10023 [==============================] - 0s 42us/sample - loss: 0.0963 - mean_absolute_error: 0.0433 - acc: 0.9748\n",
            "Epoch 48/100\n",
            "10023/10023 [==============================] - 0s 43us/sample - loss: 0.1069 - mean_absolute_error: 0.0442 - acc: 0.9721\n",
            "Epoch 49/100\n",
            "10023/10023 [==============================] - 0s 42us/sample - loss: 0.0938 - mean_absolute_error: 0.0432 - acc: 0.9736\n",
            "Epoch 50/100\n",
            "10023/10023 [==============================] - 0s 42us/sample - loss: 0.0920 - mean_absolute_error: 0.0437 - acc: 0.9741\n",
            "Epoch 51/100\n",
            "10023/10023 [==============================] - 0s 42us/sample - loss: 0.0963 - mean_absolute_error: 0.0433 - acc: 0.9735\n",
            "Epoch 52/100\n",
            "10023/10023 [==============================] - 0s 39us/sample - loss: 0.0934 - mean_absolute_error: 0.0436 - acc: 0.9739\n",
            "Epoch 53/100\n",
            "10023/10023 [==============================] - 0s 42us/sample - loss: 0.0956 - mean_absolute_error: 0.0441 - acc: 0.9737\n",
            "Epoch 54/100\n",
            "10023/10023 [==============================] - 0s 39us/sample - loss: 0.0963 - mean_absolute_error: 0.0435 - acc: 0.9727\n",
            "Epoch 55/100\n",
            "10023/10023 [==============================] - 0s 41us/sample - loss: 0.0969 - mean_absolute_error: 0.0435 - acc: 0.9736\n",
            "Epoch 56/100\n",
            "10023/10023 [==============================] - 0s 40us/sample - loss: 0.0945 - mean_absolute_error: 0.0429 - acc: 0.9746\n",
            "Epoch 57/100\n",
            "10023/10023 [==============================] - 0s 40us/sample - loss: 0.0920 - mean_absolute_error: 0.0424 - acc: 0.9744\n",
            "Epoch 58/100\n",
            "10023/10023 [==============================] - 0s 38us/sample - loss: 0.0927 - mean_absolute_error: 0.0430 - acc: 0.9746\n",
            "Epoch 59/100\n",
            "10023/10023 [==============================] - 0s 38us/sample - loss: 0.0911 - mean_absolute_error: 0.0427 - acc: 0.9759\n",
            "Epoch 60/100\n",
            "10023/10023 [==============================] - 0s 41us/sample - loss: 0.0915 - mean_absolute_error: 0.0428 - acc: 0.9743\n",
            "Epoch 61/100\n",
            "10023/10023 [==============================] - 0s 38us/sample - loss: 0.0906 - mean_absolute_error: 0.0431 - acc: 0.9740\n",
            "Epoch 62/100\n",
            "10023/10023 [==============================] - 0s 40us/sample - loss: 0.0928 - mean_absolute_error: 0.0428 - acc: 0.9747\n",
            "Epoch 63/100\n",
            "10023/10023 [==============================] - 0s 40us/sample - loss: 0.0949 - mean_absolute_error: 0.0432 - acc: 0.9734\n",
            "Epoch 64/100\n",
            "10023/10023 [==============================] - 0s 42us/sample - loss: 0.0930 - mean_absolute_error: 0.0419 - acc: 0.9758\n",
            "Epoch 65/100\n",
            "10023/10023 [==============================] - 0s 40us/sample - loss: 0.0940 - mean_absolute_error: 0.0429 - acc: 0.9750\n",
            "Epoch 66/100\n",
            "10023/10023 [==============================] - 0s 41us/sample - loss: 0.0908 - mean_absolute_error: 0.0430 - acc: 0.9739\n",
            "Epoch 67/100\n",
            "10023/10023 [==============================] - 0s 42us/sample - loss: 0.0923 - mean_absolute_error: 0.0428 - acc: 0.9740\n",
            "Epoch 68/100\n",
            "10023/10023 [==============================] - 0s 41us/sample - loss: 0.0944 - mean_absolute_error: 0.0427 - acc: 0.9752\n",
            "Epoch 69/100\n",
            "10023/10023 [==============================] - 0s 40us/sample - loss: 0.0910 - mean_absolute_error: 0.0424 - acc: 0.9757\n",
            "Epoch 70/100\n",
            "10023/10023 [==============================] - 0s 43us/sample - loss: 0.0939 - mean_absolute_error: 0.0422 - acc: 0.9759\n",
            "Epoch 71/100\n",
            "10023/10023 [==============================] - 0s 43us/sample - loss: 0.0902 - mean_absolute_error: 0.0430 - acc: 0.9744\n",
            "Epoch 72/100\n",
            "10023/10023 [==============================] - 0s 42us/sample - loss: 0.0898 - mean_absolute_error: 0.0423 - acc: 0.9752\n",
            "Epoch 73/100\n",
            "10023/10023 [==============================] - 0s 43us/sample - loss: 0.0936 - mean_absolute_error: 0.0426 - acc: 0.9742\n",
            "Epoch 74/100\n",
            "10023/10023 [==============================] - 0s 41us/sample - loss: 0.0884 - mean_absolute_error: 0.0419 - acc: 0.9757\n",
            "Epoch 75/100\n",
            "10023/10023 [==============================] - 0s 41us/sample - loss: 0.0906 - mean_absolute_error: 0.0424 - acc: 0.9746\n",
            "Epoch 76/100\n",
            "10023/10023 [==============================] - 0s 41us/sample - loss: 0.0888 - mean_absolute_error: 0.0422 - acc: 0.9738\n",
            "Epoch 77/100\n",
            "10023/10023 [==============================] - 0s 40us/sample - loss: 0.0911 - mean_absolute_error: 0.0419 - acc: 0.9760\n",
            "Epoch 78/100\n",
            "10023/10023 [==============================] - 0s 43us/sample - loss: 0.0898 - mean_absolute_error: 0.0423 - acc: 0.9752\n",
            "Epoch 79/100\n",
            "10023/10023 [==============================] - 0s 42us/sample - loss: 0.0911 - mean_absolute_error: 0.0425 - acc: 0.9741\n",
            "Epoch 80/100\n",
            "10023/10023 [==============================] - 0s 42us/sample - loss: 0.0907 - mean_absolute_error: 0.0428 - acc: 0.9738\n",
            "Epoch 81/100\n",
            "10023/10023 [==============================] - 0s 43us/sample - loss: 0.1017 - mean_absolute_error: 0.0436 - acc: 0.9731\n",
            "Epoch 82/100\n",
            "10023/10023 [==============================] - 0s 40us/sample - loss: 0.0953 - mean_absolute_error: 0.0412 - acc: 0.9746\n",
            "Epoch 83/100\n",
            "10023/10023 [==============================] - 0s 43us/sample - loss: 0.0916 - mean_absolute_error: 0.0425 - acc: 0.9742\n",
            "Epoch 84/100\n",
            "10023/10023 [==============================] - 0s 43us/sample - loss: 0.0893 - mean_absolute_error: 0.0427 - acc: 0.9758\n",
            "Epoch 85/100\n",
            "10023/10023 [==============================] - 0s 42us/sample - loss: 0.0866 - mean_absolute_error: 0.0413 - acc: 0.9762\n",
            "Epoch 86/100\n",
            "10023/10023 [==============================] - 0s 39us/sample - loss: 0.0902 - mean_absolute_error: 0.0420 - acc: 0.9758\n",
            "Epoch 87/100\n",
            "10023/10023 [==============================] - 0s 42us/sample - loss: 0.0928 - mean_absolute_error: 0.0423 - acc: 0.9751\n",
            "Epoch 88/100\n",
            "10023/10023 [==============================] - 0s 40us/sample - loss: 0.0908 - mean_absolute_error: 0.0415 - acc: 0.9745\n",
            "Epoch 89/100\n",
            "10023/10023 [==============================] - 0s 43us/sample - loss: 0.0863 - mean_absolute_error: 0.0415 - acc: 0.9751\n",
            "Epoch 90/100\n",
            "10023/10023 [==============================] - 0s 44us/sample - loss: 0.0859 - mean_absolute_error: 0.0414 - acc: 0.9764\n",
            "Epoch 91/100\n",
            "10023/10023 [==============================] - 0s 40us/sample - loss: 0.0899 - mean_absolute_error: 0.0425 - acc: 0.9749\n",
            "Epoch 92/100\n",
            "10023/10023 [==============================] - 0s 42us/sample - loss: 0.0917 - mean_absolute_error: 0.0418 - acc: 0.9751\n",
            "Epoch 93/100\n",
            "10023/10023 [==============================] - 0s 40us/sample - loss: 0.0871 - mean_absolute_error: 0.0414 - acc: 0.9759\n",
            "Epoch 94/100\n",
            "10023/10023 [==============================] - 0s 43us/sample - loss: 0.0876 - mean_absolute_error: 0.0419 - acc: 0.9751\n",
            "Epoch 95/100\n",
            "10023/10023 [==============================] - 0s 45us/sample - loss: 0.0880 - mean_absolute_error: 0.0412 - acc: 0.9754\n",
            "Epoch 96/100\n",
            "10023/10023 [==============================] - 0s 49us/sample - loss: 0.0884 - mean_absolute_error: 0.0415 - acc: 0.9753\n",
            "Epoch 97/100\n",
            "10023/10023 [==============================] - 0s 45us/sample - loss: 0.0924 - mean_absolute_error: 0.0419 - acc: 0.9751\n",
            "Epoch 98/100\n",
            "10023/10023 [==============================] - 0s 44us/sample - loss: 0.0906 - mean_absolute_error: 0.0418 - acc: 0.9764\n",
            "Epoch 99/100\n",
            "10023/10023 [==============================] - 0s 47us/sample - loss: 0.0898 - mean_absolute_error: 0.0421 - acc: 0.9751\n",
            "Epoch 100/100\n",
            "10023/10023 [==============================] - 0s 46us/sample - loss: 0.0889 - mean_absolute_error: 0.0417 - acc: 0.9758\n"
          ],
          "name": "stdout"
        }
      ]
    },
    {
      "cell_type": "code",
      "metadata": {
        "id": "0KY3SWheBCrU",
        "colab_type": "code",
        "outputId": "6913a305-fb68-4cd5-daed-996980002768",
        "colab": {
          "base_uri": "https://localhost:8080/",
          "height": 421
        }
      },
      "source": [
        "y_pred = model.predict(x_test)\n",
        "#from sklearn.metrics import confusion_matrix, accuracy_score, f1_score, precision_score, recall_score\n",
        "\n",
        "acc = keras.metrics.binary_accuracy(y_test, y_pred)\n",
        "#acc      = metrics.accuracy_score  (y_test.argmax(axis = 1), preds.argmax(axis = 1))\n",
        "#f1       = metrics.f1_score        (y_test.argmax(axis = 1), preds.argmax(axis = 1))\n",
        "#prec     = metrics.precision_score (y_test.argmax(axis = 1), preds.argmax(axis = 1))\n",
        "#recall   = metrics.recall_score    (y_test.argmax(axis = 1), preds.argmax(axis = 1))\n",
        "#conf_mat = metrics.confusion_matrix(y_test.argmax(axis = 1), preds.argmax(axis = 1))"
      ],
      "execution_count": 0,
      "outputs": [
        {
          "output_type": "error",
          "ename": "TypeError",
          "evalue": "ignored",
          "traceback": [
            "\u001b[0;31m---------------------------------------------------------------------------\u001b[0m",
            "\u001b[0;31mValueError\u001b[0m                                Traceback (most recent call last)",
            "\u001b[0;32m/usr/local/lib/python3.6/dist-packages/tensorflow/python/framework/op_def_library.py\u001b[0m in \u001b[0;36m_apply_op_helper\u001b[0;34m(self, op_type_name, name, **keywords)\u001b[0m\n\u001b[1;32m    526\u001b[0m                 \u001b[0mas_ref\u001b[0m\u001b[0;34m=\u001b[0m\u001b[0minput_arg\u001b[0m\u001b[0;34m.\u001b[0m\u001b[0mis_ref\u001b[0m\u001b[0;34m,\u001b[0m\u001b[0;34m\u001b[0m\u001b[0;34m\u001b[0m\u001b[0m\n\u001b[0;32m--> 527\u001b[0;31m                 preferred_dtype=default_dtype)\n\u001b[0m\u001b[1;32m    528\u001b[0m           \u001b[0;32mexcept\u001b[0m \u001b[0mTypeError\u001b[0m \u001b[0;32mas\u001b[0m \u001b[0merr\u001b[0m\u001b[0;34m:\u001b[0m\u001b[0;34m\u001b[0m\u001b[0;34m\u001b[0m\u001b[0m\n",
            "\u001b[0;32m/usr/local/lib/python3.6/dist-packages/tensorflow/python/framework/ops.py\u001b[0m in \u001b[0;36minternal_convert_to_tensor\u001b[0;34m(value, dtype, name, as_ref, preferred_dtype, ctx, accept_symbolic_tensors, accept_composite_tensors)\u001b[0m\n\u001b[1;32m   1223\u001b[0m     \u001b[0;32mif\u001b[0m \u001b[0mret\u001b[0m \u001b[0;32mis\u001b[0m \u001b[0;32mNone\u001b[0m\u001b[0;34m:\u001b[0m\u001b[0;34m\u001b[0m\u001b[0;34m\u001b[0m\u001b[0m\n\u001b[0;32m-> 1224\u001b[0;31m       \u001b[0mret\u001b[0m \u001b[0;34m=\u001b[0m \u001b[0mconversion_func\u001b[0m\u001b[0;34m(\u001b[0m\u001b[0mvalue\u001b[0m\u001b[0;34m,\u001b[0m \u001b[0mdtype\u001b[0m\u001b[0;34m=\u001b[0m\u001b[0mdtype\u001b[0m\u001b[0;34m,\u001b[0m \u001b[0mname\u001b[0m\u001b[0;34m=\u001b[0m\u001b[0mname\u001b[0m\u001b[0;34m,\u001b[0m \u001b[0mas_ref\u001b[0m\u001b[0;34m=\u001b[0m\u001b[0mas_ref\u001b[0m\u001b[0;34m)\u001b[0m\u001b[0;34m\u001b[0m\u001b[0;34m\u001b[0m\u001b[0m\n\u001b[0m\u001b[1;32m   1225\u001b[0m \u001b[0;34m\u001b[0m\u001b[0m\n",
            "\u001b[0;32m/usr/local/lib/python3.6/dist-packages/tensorflow/python/framework/ops.py\u001b[0m in \u001b[0;36m_TensorTensorConversionFunction\u001b[0;34m(t, dtype, name, as_ref)\u001b[0m\n\u001b[1;32m   1017\u001b[0m         \u001b[0;34m\"Tensor conversion requested dtype %s for Tensor with dtype %s: %r\"\u001b[0m \u001b[0;34m%\u001b[0m\u001b[0;34m\u001b[0m\u001b[0;34m\u001b[0m\u001b[0m\n\u001b[0;32m-> 1018\u001b[0;31m         (dtype.name, t.dtype.name, str(t)))\n\u001b[0m\u001b[1;32m   1019\u001b[0m   \u001b[0;32mreturn\u001b[0m \u001b[0mt\u001b[0m\u001b[0;34m\u001b[0m\u001b[0;34m\u001b[0m\u001b[0m\n",
            "\u001b[0;31mValueError\u001b[0m: Tensor conversion requested dtype int64 for Tensor with dtype float32: 'Tensor(\"Cast_1:0\", shape=(2505, 1), dtype=float32)'",
            "\nDuring handling of the above exception, another exception occurred:\n",
            "\u001b[0;31mTypeError\u001b[0m                                 Traceback (most recent call last)",
            "\u001b[0;32m<ipython-input-22-7e111e14b3bb>\u001b[0m in \u001b[0;36m<module>\u001b[0;34m()\u001b[0m\n\u001b[1;32m      2\u001b[0m \u001b[0;31m#from sklearn.metrics import confusion_matrix, accuracy_score, f1_score, precision_score, recall_score\u001b[0m\u001b[0;34m\u001b[0m\u001b[0;34m\u001b[0m\u001b[0;34m\u001b[0m\u001b[0m\n\u001b[1;32m      3\u001b[0m \u001b[0;34m\u001b[0m\u001b[0m\n\u001b[0;32m----> 4\u001b[0;31m \u001b[0macc\u001b[0m \u001b[0;34m=\u001b[0m \u001b[0mkeras\u001b[0m\u001b[0;34m.\u001b[0m\u001b[0mmetrics\u001b[0m\u001b[0;34m.\u001b[0m\u001b[0mbinary_accuracy\u001b[0m\u001b[0;34m(\u001b[0m\u001b[0my_test\u001b[0m\u001b[0;34m,\u001b[0m \u001b[0my_pred\u001b[0m\u001b[0;34m)\u001b[0m\u001b[0;34m\u001b[0m\u001b[0;34m\u001b[0m\u001b[0m\n\u001b[0m\u001b[1;32m      5\u001b[0m \u001b[0;31m#acc      = metrics.accuracy_score  (y_test.argmax(axis = 1), preds.argmax(axis = 1))\u001b[0m\u001b[0;34m\u001b[0m\u001b[0;34m\u001b[0m\u001b[0;34m\u001b[0m\u001b[0m\n\u001b[1;32m      6\u001b[0m \u001b[0;31m#f1       = metrics.f1_score        (y_test.argmax(axis = 1), preds.argmax(axis = 1))\u001b[0m\u001b[0;34m\u001b[0m\u001b[0;34m\u001b[0m\u001b[0;34m\u001b[0m\u001b[0m\n",
            "\u001b[0;32m/usr/local/lib/python3.6/dist-packages/tensorflow/python/keras/metrics.py\u001b[0m in \u001b[0;36mbinary_accuracy\u001b[0;34m(y_true, y_pred, threshold)\u001b[0m\n\u001b[1;32m   2723\u001b[0m   \u001b[0mthreshold\u001b[0m \u001b[0;34m=\u001b[0m \u001b[0mmath_ops\u001b[0m\u001b[0;34m.\u001b[0m\u001b[0mcast\u001b[0m\u001b[0;34m(\u001b[0m\u001b[0mthreshold\u001b[0m\u001b[0;34m,\u001b[0m \u001b[0my_pred\u001b[0m\u001b[0;34m.\u001b[0m\u001b[0mdtype\u001b[0m\u001b[0;34m)\u001b[0m\u001b[0;34m\u001b[0m\u001b[0;34m\u001b[0m\u001b[0m\n\u001b[1;32m   2724\u001b[0m   \u001b[0my_pred\u001b[0m \u001b[0;34m=\u001b[0m \u001b[0mmath_ops\u001b[0m\u001b[0;34m.\u001b[0m\u001b[0mcast\u001b[0m\u001b[0;34m(\u001b[0m\u001b[0my_pred\u001b[0m \u001b[0;34m>\u001b[0m \u001b[0mthreshold\u001b[0m\u001b[0;34m,\u001b[0m \u001b[0my_pred\u001b[0m\u001b[0;34m.\u001b[0m\u001b[0mdtype\u001b[0m\u001b[0;34m)\u001b[0m\u001b[0;34m\u001b[0m\u001b[0;34m\u001b[0m\u001b[0m\n\u001b[0;32m-> 2725\u001b[0;31m   \u001b[0;32mreturn\u001b[0m \u001b[0mK\u001b[0m\u001b[0;34m.\u001b[0m\u001b[0mmean\u001b[0m\u001b[0;34m(\u001b[0m\u001b[0mmath_ops\u001b[0m\u001b[0;34m.\u001b[0m\u001b[0mequal\u001b[0m\u001b[0;34m(\u001b[0m\u001b[0my_true\u001b[0m\u001b[0;34m,\u001b[0m \u001b[0my_pred\u001b[0m\u001b[0;34m)\u001b[0m\u001b[0;34m,\u001b[0m \u001b[0maxis\u001b[0m\u001b[0;34m=\u001b[0m\u001b[0;34m-\u001b[0m\u001b[0;36m1\u001b[0m\u001b[0;34m)\u001b[0m\u001b[0;34m\u001b[0m\u001b[0;34m\u001b[0m\u001b[0m\n\u001b[0m\u001b[1;32m   2726\u001b[0m \u001b[0;34m\u001b[0m\u001b[0m\n\u001b[1;32m   2727\u001b[0m \u001b[0;34m\u001b[0m\u001b[0m\n",
            "\u001b[0;32m/usr/local/lib/python3.6/dist-packages/tensorflow/python/ops/gen_math_ops.py\u001b[0m in \u001b[0;36mequal\u001b[0;34m(x, y, name)\u001b[0m\n\u001b[1;32m   3453\u001b[0m   \u001b[0;32mtry\u001b[0m\u001b[0;34m:\u001b[0m\u001b[0;34m\u001b[0m\u001b[0;34m\u001b[0m\u001b[0m\n\u001b[1;32m   3454\u001b[0m     _, _, _op = _op_def_lib._apply_op_helper(\n\u001b[0;32m-> 3455\u001b[0;31m         \"Equal\", x=x, y=y, name=name)\n\u001b[0m\u001b[1;32m   3456\u001b[0m   \u001b[0;32mexcept\u001b[0m \u001b[0;34m(\u001b[0m\u001b[0mTypeError\u001b[0m\u001b[0;34m,\u001b[0m \u001b[0mValueError\u001b[0m\u001b[0;34m)\u001b[0m\u001b[0;34m:\u001b[0m\u001b[0;34m\u001b[0m\u001b[0;34m\u001b[0m\u001b[0m\n\u001b[1;32m   3457\u001b[0m     result = _dispatch.dispatch(\n",
            "\u001b[0;32m/usr/local/lib/python3.6/dist-packages/tensorflow/python/framework/op_def_library.py\u001b[0m in \u001b[0;36m_apply_op_helper\u001b[0;34m(self, op_type_name, name, **keywords)\u001b[0m\n\u001b[1;32m    561\u001b[0m                   \u001b[0;34m\"%s type %s of argument '%s'.\"\u001b[0m \u001b[0;34m%\u001b[0m\u001b[0;34m\u001b[0m\u001b[0;34m\u001b[0m\u001b[0m\n\u001b[1;32m    562\u001b[0m                   (prefix, dtypes.as_dtype(attrs[input_arg.type_attr]).name,\n\u001b[0;32m--> 563\u001b[0;31m                    inferred_from[input_arg.type_attr]))\n\u001b[0m\u001b[1;32m    564\u001b[0m \u001b[0;34m\u001b[0m\u001b[0m\n\u001b[1;32m    565\u001b[0m           \u001b[0mtypes\u001b[0m \u001b[0;34m=\u001b[0m \u001b[0;34m[\u001b[0m\u001b[0mvalues\u001b[0m\u001b[0;34m.\u001b[0m\u001b[0mdtype\u001b[0m\u001b[0;34m]\u001b[0m\u001b[0;34m\u001b[0m\u001b[0;34m\u001b[0m\u001b[0m\n",
            "\u001b[0;31mTypeError\u001b[0m: Input 'y' of 'Equal' Op has type float32 that does not match type int64 of argument 'x'."
          ]
        }
      ]
    },
    {
      "cell_type": "code",
      "metadata": {
        "id": "fWXQvG5LOWSI",
        "colab_type": "code",
        "colab": {}
      },
      "source": [
        "print('Accuracy score: {}%'.format(acc * 100))\n",
        "print('F-measure: {}%'.format(f1 * 100))\n",
        "print('Precision score: {}%'.format(prec * 100))\n",
        "print('Recall score: {}%'.format(recall * 100))\n",
        "print('Confusion matrix: ')\n",
        "print(conf_mat)"
      ],
      "execution_count": 0,
      "outputs": []
    },
    {
      "cell_type": "code",
      "metadata": {
        "id": "pbVO7UkHCSvz",
        "colab_type": "code",
        "colab": {}
      },
      "source": [
        "preds_df = pd.DataFrame(preds.argmax(axis = 1))\n",
        "trues_df = pd.DataFrame(Y_test)\n",
        "\n",
        "preds_df.to_csv(path+'preds.csv', index = False)\n",
        "trues_df.to_csv(path+'trues.csv', index = False)"
      ],
      "execution_count": 0,
      "outputs": []
    }
  ]
}