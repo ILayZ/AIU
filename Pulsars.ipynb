{
  "nbformat": 4,
  "nbformat_minor": 0,
  "metadata": {
    "colab": {
      "name": "Pulsars.ipynb",
      "version": "0.3.2",
      "provenance": [],
      "collapsed_sections": [
        "nhxsMmhW6vga"
      ],
      "include_colab_link": true
    },
    "kernelspec": {
      "name": "python3",
      "display_name": "Python 3"
    },
    "accelerator": "TPU"
  },
  "cells": [
    {
      "cell_type": "markdown",
      "metadata": {
        "id": "view-in-github",
        "colab_type": "text"
      },
      "source": [
        "<a href=\"https://colab.research.google.com/github/ILayZ/AIU/blob/master/Pulsars.ipynb\" target=\"_parent\"><img src=\"https://colab.research.google.com/assets/colab-badge.svg\" alt=\"Open In Colab\"/></a>"
      ]
    },
    {
      "cell_type": "code",
      "metadata": {
        "id": "CsXUJE09tenj",
        "colab_type": "code",
        "outputId": "a5700ca7-9c0c-4ee4-dfeb-ce49da2fd302",
        "colab": {
          "base_uri": "https://localhost:8080/",
          "height": 121
        }
      },
      "source": [
        "import numpy as np\n",
        "\n",
        "import pandas as pd\n",
        "import tensorflow as tf\n",
        "from tensorflow import keras\n",
        "\n",
        "import matplotlib.pyplot as plt\n",
        "import seaborn as sns\n",
        "sns.set(style=\"darkgrid\")\n",
        "\n",
        "\n",
        "%matplotlib inline\n",
        "\n",
        "from google.colab import drive\n",
        "drive.mount('/gdrive')"
      ],
      "execution_count": 2,
      "outputs": [
        {
          "output_type": "stream",
          "text": [
            "Go to this URL in a browser: https://accounts.google.com/o/oauth2/auth?client_id=947318989803-6bn6qk8qdgf4n4g3pfee6491hc0brc4i.apps.googleusercontent.com&redirect_uri=urn%3Aietf%3Awg%3Aoauth%3A2.0%3Aoob&scope=email%20https%3A%2F%2Fwww.googleapis.com%2Fauth%2Fdocs.test%20https%3A%2F%2Fwww.googleapis.com%2Fauth%2Fdrive%20https%3A%2F%2Fwww.googleapis.com%2Fauth%2Fdrive.photos.readonly%20https%3A%2F%2Fwww.googleapis.com%2Fauth%2Fpeopleapi.readonly&response_type=code\n",
            "\n",
            "Enter your authorization code:\n",
            "··········\n",
            "Mounted at /gdrive\n"
          ],
          "name": "stdout"
        }
      ]
    },
    {
      "cell_type": "code",
      "metadata": {
        "id": "5YWmk4ney3TB",
        "colab_type": "code",
        "outputId": "a72d132a-36a0-4183-c2b2-1712716b3f61",
        "colab": {
          "base_uri": "https://localhost:8080/",
          "height": 50
        }
      },
      "source": [
        "path = '/gdrive/My Drive/Colab Notebooks/data/'\n",
        "%ls \"$path\""
      ],
      "execution_count": 3,
      "outputs": [
        {
          "output_type": "stream",
          "text": [
            "Credit.csv                    preds.csv         trues.csv\n",
            "predicting-a-pulsar-star.zip  pulsar_stars.csv\n"
          ],
          "name": "stdout"
        }
      ]
    },
    {
      "cell_type": "code",
      "metadata": {
        "id": "GiAmY9Nrtenm",
        "colab_type": "code",
        "outputId": "f665663f-7230-4a49-9ccb-2b2c64c5d503",
        "colab": {
          "base_uri": "https://localhost:8080/",
          "height": 229
        }
      },
      "source": [
        "data = pd.read_csv(path+'pulsar_stars.csv')\n",
        "data.head()"
      ],
      "execution_count": 4,
      "outputs": [
        {
          "output_type": "execute_result",
          "data": {
            "text/html": [
              "<div>\n",
              "<style scoped>\n",
              "    .dataframe tbody tr th:only-of-type {\n",
              "        vertical-align: middle;\n",
              "    }\n",
              "\n",
              "    .dataframe tbody tr th {\n",
              "        vertical-align: top;\n",
              "    }\n",
              "\n",
              "    .dataframe thead th {\n",
              "        text-align: right;\n",
              "    }\n",
              "</style>\n",
              "<table border=\"1\" class=\"dataframe\">\n",
              "  <thead>\n",
              "    <tr style=\"text-align: right;\">\n",
              "      <th></th>\n",
              "      <th>Mean of the integrated profile</th>\n",
              "      <th>Standard deviation of the integrated profile</th>\n",
              "      <th>Excess kurtosis of the integrated profile</th>\n",
              "      <th>Skewness of the integrated profile</th>\n",
              "      <th>Mean of the DM-SNR curve</th>\n",
              "      <th>Standard deviation of the DM-SNR curve</th>\n",
              "      <th>Excess kurtosis of the DM-SNR curve</th>\n",
              "      <th>Skewness of the DM-SNR curve</th>\n",
              "      <th>target_class</th>\n",
              "    </tr>\n",
              "  </thead>\n",
              "  <tbody>\n",
              "    <tr>\n",
              "      <th>0</th>\n",
              "      <td>140.562500</td>\n",
              "      <td>55.683782</td>\n",
              "      <td>-0.234571</td>\n",
              "      <td>-0.699648</td>\n",
              "      <td>3.199833</td>\n",
              "      <td>19.110426</td>\n",
              "      <td>7.975532</td>\n",
              "      <td>74.242225</td>\n",
              "      <td>0</td>\n",
              "    </tr>\n",
              "    <tr>\n",
              "      <th>1</th>\n",
              "      <td>102.507812</td>\n",
              "      <td>58.882430</td>\n",
              "      <td>0.465318</td>\n",
              "      <td>-0.515088</td>\n",
              "      <td>1.677258</td>\n",
              "      <td>14.860146</td>\n",
              "      <td>10.576487</td>\n",
              "      <td>127.393580</td>\n",
              "      <td>0</td>\n",
              "    </tr>\n",
              "    <tr>\n",
              "      <th>2</th>\n",
              "      <td>103.015625</td>\n",
              "      <td>39.341649</td>\n",
              "      <td>0.323328</td>\n",
              "      <td>1.051164</td>\n",
              "      <td>3.121237</td>\n",
              "      <td>21.744669</td>\n",
              "      <td>7.735822</td>\n",
              "      <td>63.171909</td>\n",
              "      <td>0</td>\n",
              "    </tr>\n",
              "    <tr>\n",
              "      <th>3</th>\n",
              "      <td>136.750000</td>\n",
              "      <td>57.178449</td>\n",
              "      <td>-0.068415</td>\n",
              "      <td>-0.636238</td>\n",
              "      <td>3.642977</td>\n",
              "      <td>20.959280</td>\n",
              "      <td>6.896499</td>\n",
              "      <td>53.593661</td>\n",
              "      <td>0</td>\n",
              "    </tr>\n",
              "    <tr>\n",
              "      <th>4</th>\n",
              "      <td>88.726562</td>\n",
              "      <td>40.672225</td>\n",
              "      <td>0.600866</td>\n",
              "      <td>1.123492</td>\n",
              "      <td>1.178930</td>\n",
              "      <td>11.468720</td>\n",
              "      <td>14.269573</td>\n",
              "      <td>252.567306</td>\n",
              "      <td>0</td>\n",
              "    </tr>\n",
              "  </tbody>\n",
              "</table>\n",
              "</div>"
            ],
            "text/plain": [
              "    Mean of the integrated profile  ...  target_class\n",
              "0                       140.562500  ...             0\n",
              "1                       102.507812  ...             0\n",
              "2                       103.015625  ...             0\n",
              "3                       136.750000  ...             0\n",
              "4                        88.726562  ...             0\n",
              "\n",
              "[5 rows x 9 columns]"
            ]
          },
          "metadata": {
            "tags": []
          },
          "execution_count": 4
        }
      ]
    },
    {
      "cell_type": "code",
      "metadata": {
        "id": "XReooG260MD6",
        "colab_type": "code",
        "outputId": "07d10c82-b860-461f-bcd3-35c91876b627",
        "colab": {
          "base_uri": "https://localhost:8080/",
          "height": 252
        }
      },
      "source": [
        "data.info()"
      ],
      "execution_count": 5,
      "outputs": [
        {
          "output_type": "stream",
          "text": [
            "<class 'pandas.core.frame.DataFrame'>\n",
            "RangeIndex: 17898 entries, 0 to 17897\n",
            "Data columns (total 9 columns):\n",
            " Mean of the integrated profile                  17898 non-null float64\n",
            " Standard deviation of the integrated profile    17898 non-null float64\n",
            " Excess kurtosis of the integrated profile       17898 non-null float64\n",
            " Skewness of the integrated profile              17898 non-null float64\n",
            " Mean of the DM-SNR curve                        17898 non-null float64\n",
            " Standard deviation of the DM-SNR curve          17898 non-null float64\n",
            " Excess kurtosis of the DM-SNR curve             17898 non-null float64\n",
            " Skewness of the DM-SNR curve                    17898 non-null float64\n",
            "target_class                                     17898 non-null int64\n",
            "dtypes: float64(8), int64(1)\n",
            "memory usage: 1.2 MB\n"
          ],
          "name": "stdout"
        }
      ]
    },
    {
      "cell_type": "code",
      "metadata": {
        "id": "_FVS4mGU0VGO",
        "colab_type": "code",
        "outputId": "66550ec0-5957-49d6-8199-170d2462531a",
        "colab": {
          "base_uri": "https://localhost:8080/",
          "height": 318
        }
      },
      "source": [
        "data.describe()"
      ],
      "execution_count": 6,
      "outputs": [
        {
          "output_type": "execute_result",
          "data": {
            "text/html": [
              "<div>\n",
              "<style scoped>\n",
              "    .dataframe tbody tr th:only-of-type {\n",
              "        vertical-align: middle;\n",
              "    }\n",
              "\n",
              "    .dataframe tbody tr th {\n",
              "        vertical-align: top;\n",
              "    }\n",
              "\n",
              "    .dataframe thead th {\n",
              "        text-align: right;\n",
              "    }\n",
              "</style>\n",
              "<table border=\"1\" class=\"dataframe\">\n",
              "  <thead>\n",
              "    <tr style=\"text-align: right;\">\n",
              "      <th></th>\n",
              "      <th>Mean of the integrated profile</th>\n",
              "      <th>Standard deviation of the integrated profile</th>\n",
              "      <th>Excess kurtosis of the integrated profile</th>\n",
              "      <th>Skewness of the integrated profile</th>\n",
              "      <th>Mean of the DM-SNR curve</th>\n",
              "      <th>Standard deviation of the DM-SNR curve</th>\n",
              "      <th>Excess kurtosis of the DM-SNR curve</th>\n",
              "      <th>Skewness of the DM-SNR curve</th>\n",
              "      <th>target_class</th>\n",
              "    </tr>\n",
              "  </thead>\n",
              "  <tbody>\n",
              "    <tr>\n",
              "      <th>count</th>\n",
              "      <td>17898.000000</td>\n",
              "      <td>17898.000000</td>\n",
              "      <td>17898.000000</td>\n",
              "      <td>17898.000000</td>\n",
              "      <td>17898.000000</td>\n",
              "      <td>17898.000000</td>\n",
              "      <td>17898.000000</td>\n",
              "      <td>17898.000000</td>\n",
              "      <td>17898.000000</td>\n",
              "    </tr>\n",
              "    <tr>\n",
              "      <th>mean</th>\n",
              "      <td>111.079968</td>\n",
              "      <td>46.549532</td>\n",
              "      <td>0.477857</td>\n",
              "      <td>1.770279</td>\n",
              "      <td>12.614400</td>\n",
              "      <td>26.326515</td>\n",
              "      <td>8.303556</td>\n",
              "      <td>104.857709</td>\n",
              "      <td>0.091574</td>\n",
              "    </tr>\n",
              "    <tr>\n",
              "      <th>std</th>\n",
              "      <td>25.652935</td>\n",
              "      <td>6.843189</td>\n",
              "      <td>1.064040</td>\n",
              "      <td>6.167913</td>\n",
              "      <td>29.472897</td>\n",
              "      <td>19.470572</td>\n",
              "      <td>4.506092</td>\n",
              "      <td>106.514540</td>\n",
              "      <td>0.288432</td>\n",
              "    </tr>\n",
              "    <tr>\n",
              "      <th>min</th>\n",
              "      <td>5.812500</td>\n",
              "      <td>24.772042</td>\n",
              "      <td>-1.876011</td>\n",
              "      <td>-1.791886</td>\n",
              "      <td>0.213211</td>\n",
              "      <td>7.370432</td>\n",
              "      <td>-3.139270</td>\n",
              "      <td>-1.976976</td>\n",
              "      <td>0.000000</td>\n",
              "    </tr>\n",
              "    <tr>\n",
              "      <th>25%</th>\n",
              "      <td>100.929688</td>\n",
              "      <td>42.376018</td>\n",
              "      <td>0.027098</td>\n",
              "      <td>-0.188572</td>\n",
              "      <td>1.923077</td>\n",
              "      <td>14.437332</td>\n",
              "      <td>5.781506</td>\n",
              "      <td>34.960504</td>\n",
              "      <td>0.000000</td>\n",
              "    </tr>\n",
              "    <tr>\n",
              "      <th>50%</th>\n",
              "      <td>115.078125</td>\n",
              "      <td>46.947479</td>\n",
              "      <td>0.223240</td>\n",
              "      <td>0.198710</td>\n",
              "      <td>2.801839</td>\n",
              "      <td>18.461316</td>\n",
              "      <td>8.433515</td>\n",
              "      <td>83.064556</td>\n",
              "      <td>0.000000</td>\n",
              "    </tr>\n",
              "    <tr>\n",
              "      <th>75%</th>\n",
              "      <td>127.085938</td>\n",
              "      <td>51.023202</td>\n",
              "      <td>0.473325</td>\n",
              "      <td>0.927783</td>\n",
              "      <td>5.464256</td>\n",
              "      <td>28.428104</td>\n",
              "      <td>10.702959</td>\n",
              "      <td>139.309331</td>\n",
              "      <td>0.000000</td>\n",
              "    </tr>\n",
              "    <tr>\n",
              "      <th>max</th>\n",
              "      <td>192.617188</td>\n",
              "      <td>98.778911</td>\n",
              "      <td>8.069522</td>\n",
              "      <td>68.101622</td>\n",
              "      <td>223.392140</td>\n",
              "      <td>110.642211</td>\n",
              "      <td>34.539844</td>\n",
              "      <td>1191.000837</td>\n",
              "      <td>1.000000</td>\n",
              "    </tr>\n",
              "  </tbody>\n",
              "</table>\n",
              "</div>"
            ],
            "text/plain": [
              "        Mean of the integrated profile  ...  target_class\n",
              "count                     17898.000000  ...  17898.000000\n",
              "mean                        111.079968  ...      0.091574\n",
              "std                          25.652935  ...      0.288432\n",
              "min                           5.812500  ...      0.000000\n",
              "25%                         100.929688  ...      0.000000\n",
              "50%                         115.078125  ...      0.000000\n",
              "75%                         127.085938  ...      0.000000\n",
              "max                         192.617188  ...      1.000000\n",
              "\n",
              "[8 rows x 9 columns]"
            ]
          },
          "metadata": {
            "tags": []
          },
          "execution_count": 6
        }
      ]
    },
    {
      "cell_type": "code",
      "metadata": {
        "id": "TMguCnVQdB9_",
        "colab_type": "code",
        "outputId": "0c433f9b-806a-4329-b8af-b9aecabd285c",
        "colab": {
          "base_uri": "https://localhost:8080/",
          "height": 727
        }
      },
      "source": [
        "#data.corr()\n",
        "plt.figure( figsize=(12,8))\n",
        "sns.heatmap( data.corr(), annot=True )\n",
        "plt.show()"
      ],
      "execution_count": 7,
      "outputs": [
        {
          "output_type": "display_data",
          "data": {
            "image/png": "[encoded data removed]",
            "text/plain": [
              "<Figure size 864x576 with 2 Axes>"
            ]
          },
          "metadata": {
            "tags": []
          }
        }
      ]
    },
    {
      "cell_type": "code",
      "metadata": {
        "id": "4wAJ57Sy0qM0",
        "colab_type": "code",
        "outputId": "9cf0b18a-6ce6-486d-9e9d-880833140a78",
        "colab": {
          "base_uri": "https://localhost:8080/",
          "height": 281
        }
      },
      "source": [
        "data['target_class'].value_counts().plot(kind = 'bar', title = 'Count (target_class)')\n",
        "plt.show()"
      ],
      "execution_count": 8,
      "outputs": [
        {
          "output_type": "display_data",
          "data": {
            "image/png": "[encoded data removed]",
            "text/plain": [
              "<Figure size 432x288 with 1 Axes>"
            ]
          },
          "metadata": {
            "tags": []
          }
        }
      ]
    },
    {
      "cell_type": "code",
      "metadata": {
        "id": "90uhbXip37Zq",
        "colab_type": "code",
        "colab": {}
      },
      "source": [
        "X = np.array(data.iloc[:, 0:-1])\n",
        "Y = np.array(data.iloc[:, -1])"
      ],
      "execution_count": 0,
      "outputs": []
    },
    {
      "cell_type": "code",
      "metadata": {
        "id": "BhbZJw_Ltenp",
        "colab_type": "code",
        "colab": {}
      },
      "source": [
        "#from imblearn.over_sampling import RandomOverSampler\n",
        "\n",
        "#X = X.copy()\n",
        "#Y = Y.copy()\n",
        "\n",
        "#ros = RandomOverSampler()\n",
        "#X, Y = ros.fit_sample(X, Y)\n",
        "\n",
        "#Y = Y.reshape(-1,1)\n",
        "\n",
        "#print(X.shape)\n",
        "#print(Y.shape)"
      ],
      "execution_count": 0,
      "outputs": []
    },
    {
      "cell_type": "markdown",
      "metadata": {
        "id": "PWn9H4Ms531x",
        "colab_type": "text"
      },
      "source": [
        "Let's split our dataset into a training and testing set"
      ]
    },
    {
      "cell_type": "code",
      "metadata": {
        "id": "0RkriwZg4SOZ",
        "colab_type": "code",
        "outputId": "68996b23-dad0-42b6-d71d-69a794400737",
        "colab": {
          "base_uri": "https://localhost:8080/",
          "height": 54
        }
      },
      "source": [
        "from sklearn.linear_model import LogisticRegression\n",
        "from sklearn.model_selection import StratifiedShuffleSplit, StratifiedKFold\n",
        "from sklearn.metrics import f1_score\n",
        "\n",
        "res_C = []\n",
        "sss = StratifiedShuffleSplit(n_splits = 2, random_state = 0, test_size = 0.3)\n",
        "skf = StratifiedKFold(n_splits = 5, random_state = 42, shuffle = True)\n",
        "\n",
        "for train_index, test_index in sss.split(X, Y):\n",
        "    X_train, X_holdout = X[train_index], X[test_index]\n",
        "    Y_train, Y_holdout = Y[train_index], Y[test_index]\n",
        "counter = 0\n",
        "for c in range(1, 100):\n",
        "  res = []\n",
        "  c = c / 10\n",
        "  for train_index, test_index in skf.split(X_train, Y_train):\n",
        "      #print(counter)\n",
        "      counter+=1\n",
        "      x_train, x_test = X[train_index], X[test_index]\n",
        "      y_train, y_test = Y[train_index], Y[test_index]\n",
        "      lr = LogisticRegression(C=c, solver='liblinear')\n",
        "      lr.fit(x_train, y_train)\n",
        "      lr_prediction = lr.predict(x_test)\n",
        "      res.append( f1_score(y_test,lr_prediction) )\n",
        "      #lr_prediction_proba = lr.predict_proba(x_test)\n",
        "  res_C.append( ( c , np.mean(res) ) )\n",
        "\n",
        "print(res_C)"
      ],
      "execution_count": 60,
      "outputs": [
        {
          "output_type": "stream",
          "text": [
            "[(0.1, 0.8774624532240687), (0.2, 0.8830321163585388), (0.3, 0.8866876627129516), (0.4, 0.8882433718715349), (0.5, 0.8882433718715349), (0.6, 0.889823750973741), (0.7, 0.890260254560124), (0.8, 0.8899790567883924), (0.9, 0.8899437608425412), (1.0, 0.8899437608425412), (1.1, 0.8902622904804425), (1.2, 0.890586847526311), (1.3, 0.8910510652208069), (1.4, 0.8910510652208069), (1.5, 0.8914536390535078), (1.6, 0.8910347944957057), (1.7, 0.8913544398241076), (1.8, 0.8915313216172823), (1.9, 0.8911342827808015), (2.0, 0.8916426007105611), (2.1, 0.8912103921405192), (2.2, 0.8912117110902276), (2.3, 0.8908390033571137), (2.4, 0.8916115073723769), (2.5, 0.8915818428492379), (2.6, 0.8916632063271832), (2.7, 0.8912917556184643), (2.8, 0.8919470052078747), (2.9, 0.8916429606863648), (3.0, 0.8916632063271832), (3.1, 0.8923625087224265), (3.2, 0.89193243684914), (3.3, 0.8920628708710415), (3.4, 0.8916914201623227), (3.5, 0.892042756968514), (3.6, 0.8901604912435912), (3.7, 0.8919392797573569), (3.8, 0.8912386679009721), (3.9, 0.8916429606863648), (4.0, 0.8919512213273546), (4.1, 0.8922613934757317), (4.2, 0.8910961580892598), (4.3, 0.8893304383511079), (4.4, 0.8897113184167516), (4.5, 0.8912823262615396), (4.6, 0.8915597291160262), (4.7, 0.8919627124402773), (4.8, 0.8923625087224265), (4.9, 0.8938330969577206), (5.0, 0.8917241764664471), (5.1, 0.8897560162908738), (5.2, 0.8916632063271832), (5.3, 0.8909637457594727), (5.4, 0.8917241764664471), (5.5, 0.8909637457594727), (5.6, 0.8918797491346309), (5.7, 0.892042756968514), (5.8, 0.8923038875578587), (5.9, 0.8909800180246144), (6.0, 0.8919230074922151), (6.1, 0.8902006711011344), (6.2, 0.8920334063601152), (6.3, 0.8909190478853505), (6.4, 0.8906700895687927), (6.5, 0.8909731751163976), (6.6, 0.8920943764993791), (6.7, 0.8913339457924045), (6.8, 0.8917241764664471), (6.9, 0.8923625087224265), (7.0, 0.8904949094621226), (7.1, 0.8909800180246144), (7.2, 0.8923625087224265), (7.3, 0.8923077956623052), (7.4, 0.8930055519175644), (7.5, 0.8913243801842979), (7.6, 0.8901791065106075), (7.7, 0.8916429606863648), (7.8, 0.8923184559165935), (7.9, 0.890952929475579), (8.0, 0.8908887870585328), (8.1, 0.8905518142437213), (8.2, 0.8913243801842979), (8.3, 0.891241845454507), (8.4, 0.8909232649524401), (8.5, 0.890952929475579), (8.6, 0.8905518142437213), (8.7, 0.8922370287895308), (8.8, 0.8908703947457882), (8.9, 0.8937153277816421), (9.0, 0.890994927150002), (9.1, 0.8923625087224265), (9.2, 0.8916775633389378), (9.3, 0.8920490140476565), (9.4, 0.8919108722586129), (9.5, 0.8913230612345894), (9.6, 0.8913230612345894), (9.7, 0.8913527257577283), (9.8, 0.8909516105258705), (9.9, 0.8909435105932586)]\n"
          ],
          "name": "stdout"
        }
      ]
    },
    {
      "cell_type": "code",
      "metadata": {
        "id": "voZmFdY_EJ65",
        "colab_type": "code",
        "colab": {
          "base_uri": "https://localhost:8080/",
          "height": 202
        },
        "outputId": "bca6267d-0e61-433f-804a-9b94ff116597"
      },
      "source": [
        "best_C = max(res_C, key=lambda x: x[1])\n",
        "print( best_C )\n",
        "# обучить модель на всех train данных с этим значением параметра\n",
        "lr = LogisticRegression(C=best_C[0], solver='liblinear')\n",
        "for train_index, test_index in skf.split(X_train, Y_train):\n",
        "    x_train, x_test = X[train_index], X[test_index]\n",
        "    y_train, y_test = Y[train_index], Y[test_index]    \n",
        "    lr.fit(x_train, y_train)\n",
        "lr.fit(X_train, Y_train)\n",
        "#потом посчитать метрику на отложенном контроле\n",
        "lr_prediction = lr.predict(X_holdout)\n",
        "lr_prediction_proba = lr.predict_proba(X_holdout)\n",
        "\n",
        "cm_lr=confusion_matrix(Y_holdout, lr_prediction)\n",
        "cm_lr=pd.DataFrame(cm_lr)\n",
        "cr_lr=classification_report(Y_holdout,lr_prediction)\n",
        "\n",
        "score={\"model\":[\"logistic regression\"],\"Score\":[lr.score(x_test,y_test)]}\n",
        "score=pd.DataFrame(score)\n",
        "\n",
        "print('Classification report for Logistic Regression: \\n',cr_lr)"
      ],
      "execution_count": 69,
      "outputs": [
        {
          "output_type": "stream",
          "text": [
            "(4.9, 0.8938330969577206)\n",
            "Classification report for Logistic Regression: \n",
            "               precision    recall  f1-score   support\n",
            "\n",
            "           0       0.98      0.99      0.99      4878\n",
            "           1       0.93      0.83      0.88       492\n",
            "\n",
            "    accuracy                           0.98      5370\n",
            "   macro avg       0.96      0.91      0.93      5370\n",
            "weighted avg       0.98      0.98      0.98      5370\n",
            "\n"
          ],
          "name": "stdout"
        }
      ]
    },
    {
      "cell_type": "markdown",
      "metadata": {
        "id": "iVwT3jvw5wl3",
        "colab_type": "text"
      },
      "source": [
        "Let's normalize our features"
      ]
    },
    {
      "cell_type": "code",
      "metadata": {
        "id": "WZCpXTXo4fgO",
        "colab_type": "code",
        "outputId": "1f13da3c-2857-41a2-b66b-6d4b74d7c0fa",
        "colab": {
          "base_uri": "https://localhost:8080/",
          "height": 34
        }
      },
      "source": [
        "from sklearn.model_selection import StratifiedShuffleSplit\n",
        "\n",
        "sss = StratifiedShuffleSplit(n_splits = 2, random_state = 0, test_size = 0.3)\n",
        "\n",
        "for train_index, test_index in sss.split(X, Y):\n",
        "    x_train, x_test = X[train_index], X[test_index]\n",
        "    y_train, y_test = Y[train_index], Y[test_index]\n",
        "\n",
        "from sklearn.preprocessing import StandardScaler\n",
        "\n",
        "std_sclr = StandardScaler()\n",
        "x_train  = std_sclr.fit_transform(x_train)\n",
        "x_test   = std_sclr.fit_transform(x_test)\n",
        "x_train.shape\n",
        "x_test.shape"
      ],
      "execution_count": 52,
      "outputs": [
        {
          "output_type": "execute_result",
          "data": {
            "text/plain": [
              "(5370, 8)"
            ]
          },
          "metadata": {
            "tags": []
          },
          "execution_count": 52
        }
      ]
    },
    {
      "cell_type": "markdown",
      "metadata": {
        "id": "GkHbr16NOvF3",
        "colab_type": "text"
      },
      "source": [
        "#Logistic Regression"
      ]
    },
    {
      "cell_type": "code",
      "metadata": {
        "id": "KyDaGt7WOsR1",
        "colab_type": "code",
        "outputId": "e1110d2e-272e-4789-c11f-05764210318a",
        "colab": {
          "base_uri": "https://localhost:8080/",
          "height": 185
        }
      },
      "source": [
        "from sklearn.linear_model import LogisticRegression, LogisticRegressionCV\n",
        "from sklearn.metrics import mean_squared_error\n",
        "from sklearn.metrics import confusion_matrix,classification_report\n",
        "\n",
        "#lr = LogisticRegressionCV(solver='liblinear')\n",
        "lr = LogisticRegressionCV(cv=5,\n",
        "                          solver='liblinear'\n",
        "                          #multi_class='ovr',\n",
        "                          #random_state=None\n",
        "                         )\n",
        "lr.fit(x_train, y_train)\n",
        "lr_prediction = lr.predict(x_test)\n",
        "lr_prediction_proba = lr.predict_proba(x_test)\n",
        "\n",
        "cm_lr=confusion_matrix(y_test,lr_prediction)\n",
        "cm_lr=pd.DataFrame(cm_lr)\n",
        "cr_lr=classification_report(y_test,lr_prediction)\n",
        "\n",
        "score={\"model\":[\"logistic regression\"],\"Score\":[lr.score(x_test,y_test)]}\n",
        "score=pd.DataFrame(score)\n",
        "\n",
        "print('Classification report for Logistic Regression: \\n',cr_lr)"
      ],
      "execution_count": 55,
      "outputs": [
        {
          "output_type": "stream",
          "text": [
            "Classification report for Logistic Regression: \n",
            "               precision    recall  f1-score   support\n",
            "\n",
            "           0       0.98      0.99      0.99      4878\n",
            "           1       0.93      0.83      0.88       492\n",
            "\n",
            "    accuracy                           0.98      5370\n",
            "   macro avg       0.96      0.91      0.93      5370\n",
            "weighted avg       0.98      0.98      0.98      5370\n",
            "\n"
          ],
          "name": "stdout"
        }
      ]
    },
    {
      "cell_type": "code",
      "metadata": {
        "id": "Gtpx898hf6l5",
        "colab_type": "code",
        "colab": {}
      },
      "source": [
        "sns.distplot(lr_prediction_proba[:,1])"
      ],
      "execution_count": 0,
      "outputs": []
    },
    {
      "cell_type": "code",
      "metadata": {
        "id": "QqTOopiKlNVc",
        "colab_type": "code",
        "outputId": "a1f7d102-07b4-4c9a-f89c-31f23ff8faa6",
        "colab": {
          "base_uri": "https://localhost:8080/",
          "height": 67
        }
      },
      "source": [
        "lr.coef_"
      ],
      "execution_count": 71,
      "outputs": [
        {
          "output_type": "execute_result",
          "data": {
            "text/plain": [
              "array([[ 2.69894332e-02, -4.30409691e-02,  6.40725750e+00,\n",
              "        -6.03788913e-01, -3.19370894e-02,  4.20119412e-02,\n",
              "        -1.79039489e-01,  3.00937812e-03]])"
            ]
          },
          "metadata": {
            "tags": []
          },
          "execution_count": 71
        }
      ]
    },
    {
      "cell_type": "code",
      "metadata": {
        "id": "4O8OThZChhAZ",
        "colab_type": "code",
        "outputId": "5229c7e2-a942-4f6c-d2ee-53fbf0686ad0",
        "colab": {
          "base_uri": "https://localhost:8080/",
          "height": 34
        }
      },
      "source": [
        "from sklearn.metrics import average_precision_score\n",
        "average_precision = average_precision_score(y_test, lr_prediction_proba[:,1])\n",
        "\n",
        "print('Average precision-recall score: {0:0.2f}'.format(\n",
        "      average_precision))"
      ],
      "execution_count": 47,
      "outputs": [
        {
          "output_type": "stream",
          "text": [
            "Average precision-recall score: 0.92\n"
          ],
          "name": "stdout"
        }
      ]
    },
    {
      "cell_type": "code",
      "metadata": {
        "id": "O9o23vdqhQBY",
        "colab_type": "code",
        "outputId": "871ea946-f882-4464-b6c0-b487fa741c83",
        "colab": {
          "base_uri": "https://localhost:8080/",
          "height": 318
        }
      },
      "source": [
        "from sklearn.metrics import precision_recall_curve\n",
        "import matplotlib.pyplot as plt\n",
        "from inspect import signature\n",
        "\n",
        "precision, recall, _ = precision_recall_curve(y_test, lr_prediction_proba[:,1])\n",
        "\n",
        "# In matplotlib < 1.5, plt.fill_between does not have a 'step' argument\n",
        "step_kwargs = ({'step': 'post'}\n",
        "               if 'step' in signature(plt.fill_between).parameters\n",
        "               else {})\n",
        "plt.step(recall, precision, color='b', alpha=0.2,\n",
        "         where='post')\n",
        "plt.fill_between(recall, precision, alpha=0.2, color='b', **step_kwargs)\n",
        "\n",
        "plt.xlabel('Recall')\n",
        "plt.ylabel('Precision')\n",
        "plt.ylim([0.0, 1.05])\n",
        "plt.xlim([0.0, 1.0])\n",
        "plt.title('2-class Precision-Recall curve: AP={0:0.2f}'.format(\n",
        "          average_precision))"
      ],
      "execution_count": 48,
      "outputs": [
        {
          "output_type": "execute_result",
          "data": {
            "text/plain": [
              "Text(0.5, 1.0, '2-class Precision-Recall curve: AP=0.92')"
            ]
          },
          "metadata": {
            "tags": []
          },
          "execution_count": 48
        },
        {
          "output_type": "display_data",
          "data": {
            "image/png": "[encoded data removed]",
            "text/plain": [
              "<Figure size 432x288 with 1 Axes>"
            ]
          },
          "metadata": {
            "tags": []
          }
        }
      ]
    },
    {
      "cell_type": "code",
      "metadata": {
        "id": "kNmK8k_TgToy",
        "colab_type": "code",
        "outputId": "ce535a41-2c60-47b6-e936-94e67ee3f552",
        "colab": {
          "base_uri": "https://localhost:8080/",
          "height": 34
        }
      },
      "source": [
        "lr_prediction_proba.shape\n",
        "recall.shape\n",
        "precision.shape\n",
        "print(recall)"
      ],
      "execution_count": 49,
      "outputs": [
        {
          "output_type": "stream",
          "text": [
            "[1.         0.99656357 0.99656357 ... 0.00687285 0.00343643 0.        ]\n"
          ],
          "name": "stdout"
        }
      ]
    },
    {
      "cell_type": "code",
      "metadata": {
        "id": "a2IxN-gNQrUE",
        "colab_type": "code",
        "outputId": "1e3c4333-faf2-476d-c1f8-ddc86112b809",
        "colab": {
          "base_uri": "https://localhost:8080/",
          "height": 518
        }
      },
      "source": [
        "plt.figure( figsize=(12,8))\n",
        "g1 = sns.heatmap(cm_lr,annot=True,fmt=\".1f\")\n",
        "g1.set_ylabel('y_true')\n",
        "g1.set_xlabel('y_head')\n",
        "g1.set_title(\"Logistic Regression\")\n",
        "plt.show()"
      ],
      "execution_count": 70,
      "outputs": [
        {
          "output_type": "display_data",
          "data": {
            "image/png": "[encoded data removed]",
            "text/plain": [
              "<Figure size 864x576 with 2 Axes>"
            ]
          },
          "metadata": {
            "tags": []
          }
        }
      ]
    },
    {
      "cell_type": "markdown",
      "metadata": {
        "id": "nhxsMmhW6vga",
        "colab_type": "text"
      },
      "source": [
        "#Build model with Keras"
      ]
    },
    {
      "cell_type": "code",
      "metadata": {
        "id": "z1QvItf66tRf",
        "colab_type": "code",
        "colab": {}
      },
      "source": [
        "model = keras.models.Sequential()\n",
        "model.add(keras.layers.Dense(32, activation = 'relu', input_shape = (x_train.shape[1],)))\n",
        "model.add(keras.layers.Dense(1, activation = 'sigmoid'))\n",
        "model.compile(optimizer='adam',          # this update the weights of our model\n",
        "              loss='binary_crossentropy',# this mesures how accurate our model during training\n",
        "                  #'sparse_categorical_crossentropy',\n",
        "              metrics=['mae', 'acc'])    # this used for monitoring the training and testing steps\n",
        "model.summary()"
      ],
      "execution_count": 0,
      "outputs": []
    },
    {
      "cell_type": "code",
      "metadata": {
        "id": "5OHlBBi79rP5",
        "colab_type": "code",
        "colab": {}
      },
      "source": [
        "#callbacks = [keras.callbacks.EarlyStopping(monitor = 'loss', patience = 5, restore_best_weights = True)]\n",
        "history = model.fit(x_train, y_train, epochs=100) #, callbacks=callbacks"
      ],
      "execution_count": 0,
      "outputs": []
    },
    {
      "cell_type": "code",
      "metadata": {
        "id": "0KY3SWheBCrU",
        "colab_type": "code",
        "colab": {}
      },
      "source": [
        "y_pred = model.predict(x_test)\n",
        "#from sklearn.metrics import confusion_matrix, accuracy_score, f1_score, precision_score, recall_score\n",
        "\n",
        "acc = keras.metrics.binary_accuracy(y_test, y_pred)\n",
        "#acc      = metrics.accuracy_score  (y_test.argmax(axis = 1), preds.argmax(axis = 1))\n",
        "#f1       = metrics.f1_score        (y_test.argmax(axis = 1), preds.argmax(axis = 1))\n",
        "#prec     = metrics.precision_score (y_test.argmax(axis = 1), preds.argmax(axis = 1))\n",
        "#recall   = metrics.recall_score    (y_test.argmax(axis = 1), preds.argmax(axis = 1))\n",
        "#conf_mat = metrics.confusion_matrix(y_test.argmax(axis = 1), preds.argmax(axis = 1))"
      ],
      "execution_count": 0,
      "outputs": []
    },
    {
      "cell_type": "code",
      "metadata": {
        "id": "fWXQvG5LOWSI",
        "colab_type": "code",
        "colab": {}
      },
      "source": [
        "print('Accuracy score: {}%'.format(acc * 100))\n",
        "print('F-measure: {}%'.format(f1 * 100))\n",
        "print('Precision score: {}%'.format(prec * 100))\n",
        "print('Recall score: {}%'.format(recall * 100))\n",
        "print('Confusion matrix: ')\n",
        "print(conf_mat)"
      ],
      "execution_count": 0,
      "outputs": []
    },
    {
      "cell_type": "code",
      "metadata": {
        "id": "pbVO7UkHCSvz",
        "colab_type": "code",
        "colab": {}
      },
      "source": [
        "preds_df = pd.DataFrame(preds.argmax(axis = 1))\n",
        "trues_df = pd.DataFrame(Y_test)\n",
        "\n",
        "preds_df.to_csv(path+'preds.csv', index = False)\n",
        "trues_df.to_csv(path+'trues.csv', index = False)"
      ],
      "execution_count": 0,
      "outputs": []
    }
  ]
}